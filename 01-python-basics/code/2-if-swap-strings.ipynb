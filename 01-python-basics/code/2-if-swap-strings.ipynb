{
 "cells": [
  {
   "cell_type": "markdown",
   "metadata": {},
   "source": [
    "## 1. if-then-else\n",
    "\n",
    "```Java\n",
    "/* In Java: */\n",
    "\n",
    "int x=99;\n",
    "String s = (x > 10? \"BIG\": \"SMALL\");\n",
    "```"
   ]
  },
  {
   "cell_type": "code",
   "execution_count": 1,
   "metadata": {},
   "outputs": [
    {
     "name": "stdout",
     "output_type": "stream",
     "text": [
      "BIG\n"
     ]
    }
   ],
   "source": [
    "x=99\n",
    "s = \"BIG\" if x>10 else \"SMALL\"\n",
    "print(s)"
   ]
  },
  {
   "cell_type": "markdown",
   "metadata": {},
   "source": [
    "## 2. Swap\n",
    "\n",
    "How do you swap two numbers? Three lines in Java:\n",
    "\n",
    "```Java\n",
    "public class Swapper {\n",
    "    public static void main(String[] args) {\n",
    "        int a=5, b=10;\n",
    "\n",
    "        int temp = a; \n",
    "        a = b; \n",
    "        b = temp\n",
    "}\n",
    "```"
   ]
  },
  {
   "cell_type": "markdown",
   "metadata": {},
   "source": [
    "One line in Python:"
   ]
  },
  {
   "cell_type": "code",
   "execution_count": 2,
   "metadata": {},
   "outputs": [
    {
     "name": "stdout",
     "output_type": "stream",
     "text": [
      "5 10\n",
      "10 5\n"
     ]
    }
   ],
   "source": [
    "a,b = 5,10\n",
    "print (a,b)\n",
    "\n",
    "a,b = b,a\n",
    "print (a,b)\n"
   ]
  },
  {
   "cell_type": "markdown",
   "metadata": {},
   "source": [
    "You can even swap more than two numbers:"
   ]
  },
  {
   "cell_type": "code",
   "execution_count": 1,
   "metadata": {},
   "outputs": [
    {
     "name": "stdout",
     "output_type": "stream",
     "text": [
      "5 10 15\n",
      "10 15 5\n"
     ]
    }
   ],
   "source": [
    "a,b,c = 5,10,15\n",
    "print (a,b,c)\n",
    "\n",
    "a,b,c = b,c,a\n",
    "print (a,b,c)"
   ]
  },
  {
   "cell_type": "markdown",
   "metadata": {},
   "source": [
    "## 3. Formatted strings"
   ]
  },
  {
   "cell_type": "code",
   "execution_count": 2,
   "metadata": {},
   "outputs": [
    {
     "data": {
      "text/plain": [
       "'a=15, b=10.00, c=5.0000'"
      ]
     },
     "execution_count": 2,
     "metadata": {},
     "output_type": "execute_result"
    }
   ],
   "source": [
    "f\"a={a}, b={b:.2f}, c={c:.4f}\""
   ]
  }
 ],
 "metadata": {
  "kernelspec": {
   "display_name": "Python 3",
   "language": "python",
   "name": "python3"
  },
  "language_info": {
   "codemirror_mode": {
    "name": "ipython",
    "version": 3
   },
   "file_extension": ".py",
   "mimetype": "text/x-python",
   "name": "python",
   "nbconvert_exporter": "python",
   "pygments_lexer": "ipython3",
   "version": "3.10.2"
  }
 },
 "nbformat": 4,
 "nbformat_minor": 4
}
