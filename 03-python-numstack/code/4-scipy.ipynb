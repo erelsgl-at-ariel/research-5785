{
 "cells": [
  {
   "cell_type": "code",
   "execution_count": 1,
   "metadata": {},
   "outputs": [],
   "source": [
    "import numpy as np \n",
    "import matplotlib.pyplot as plt"
   ]
  },
  {
   "cell_type": "markdown",
   "metadata": {},
   "source": [
    "## Integration"
   ]
  },
  {
   "cell_type": "code",
   "execution_count": 2,
   "metadata": {},
   "outputs": [
    {
     "data": {
      "text/plain": [
       "(0.45969769413186023, 5.103669643922839e-15)"
      ]
     },
     "execution_count": 2,
     "metadata": {},
     "output_type": "execute_result"
    }
   ],
   "source": [
    "from scipy import integrate\n",
    "integrate.quad(lambda x: np.sin(x), 0,1)   # returns (result, error)"
   ]
  },
  {
   "cell_type": "code",
   "execution_count": 6,
   "metadata": {},
   "outputs": [
    {
     "data": {
      "text/plain": [
       "0.45969769413186023"
      ]
     },
     "execution_count": 6,
     "metadata": {},
     "output_type": "execute_result"
    }
   ],
   "source": [
    "# Compare numeric outcome to anti-derivative outcome:\n",
    "-np.cos(1) + np.cos(0)"
   ]
  },
  {
   "cell_type": "markdown",
   "metadata": {},
   "source": [
    "## Finding roots"
   ]
  },
  {
   "cell_type": "code",
   "execution_count": 7,
   "metadata": {},
   "outputs": [
    {
     "data": {
      "image/png": "[encoded data removed]",
      "text/plain": [
       "<Figure size 432x288 with 1 Axes>"
      ]
     },
     "metadata": {
      "needs_background": "light"
     },
     "output_type": "display_data"
    }
   ],
   "source": [
    "def f(x):\n",
    "    return (x - 2) * x * (x + 2)**2\n",
    "x=np.linspace(-3, 3, 1000)\n",
    "plt.grid()\n",
    "plt.plot(x, f(x));"
   ]
  },
  {
   "cell_type": "code",
   "execution_count": 8,
   "metadata": {},
   "outputs": [
    {
     "name": "stdout",
     "output_type": "stream",
     "text": [
      " message: The solution converged.\n",
      " success: True\n",
      "  status: 1\n",
      "     fun: [ 8.527e-14]\n",
      "       x: [ 2.422e+00]\n",
      "  method: hybr\n",
      "    nfev: 9\n",
      "    fjac: [[-1.000e+00]]\n",
      "       r: [-6.467e+01]\n",
      "     qtf: [ 5.335e-08]\n",
      "2.4222178065625983 20.000000000000085\n"
     ]
    },
    {
     "data": {
      "image/png": "[encoded data removed]",
      "text/plain": [
       "<Figure size 432x288 with 1 Axes>"
      ]
     },
     "metadata": {
      "needs_background": "light"
     },
     "output_type": "display_data"
    }
   ],
   "source": [
    "from scipy.optimize import root\n",
    "sol = root(lambda x: f(x)-20, x0=2.0)  # find x such that f(x)-20=0. Initial guess: x0\n",
    "print(sol)\n",
    "x_sol=sol.x[0]\n",
    "print(x_sol, f(x_sol))\n",
    "plt.grid()\n",
    "plt.plot(x, f(x));\n",
    "plt.plot(x_sol, f(x_sol), 'x');"
   ]
  },
  {
   "cell_type": "code",
   "execution_count": 11,
   "metadata": {},
   "outputs": [
    {
     "name": "stdout",
     "output_type": "stream",
     "text": [
      " message: The iteration is not making good progress, as measured by the \n",
      "            improvement from the last ten iterations.\n",
      " success: False\n",
      "  status: 5\n",
      "     fun: [ 1.009e+01]\n",
      "       x: [ 1.281e+00]\n",
      "  method: hybr\n",
      "    nfev: 22\n",
      "    fjac: [[-1.000e+00]]\n",
      "       r: [ 1.030e-02]\n",
      "     qtf: [-1.009e+01]\n"
     ]
    }
   ],
   "source": [
    "sol = root(lambda x: f(x)+20, x0=2.0)  # find x such that f(x)+20=0. Initial guess: x0\n",
    "print(sol)"
   ]
  },
  {
   "cell_type": "code",
   "execution_count": 12,
   "metadata": {},
   "outputs": [
    {
     "name": "stdout",
     "output_type": "stream",
     "text": [
      " message: The solution converged.\n",
      " success: True\n",
      "  status: 1\n",
      "     fun: [ 0.000e+00  0.000e+00]\n",
      "       x: [-3.333e-01  6.667e-01]\n",
      "  method: hybr\n",
      "    nfev: 5\n",
      "    fjac: [[-8.575e-01 -5.145e-01]\n",
      "           [ 5.145e-01 -8.575e-01]]\n",
      "       r: [-5.831e+00 -1.063e+01 -4.116e+00]\n",
      "     qtf: [-1.122e-11 -5.986e-12]\n",
      "[-0.33333333  0.66666667]\n"
     ]
    }
   ],
   "source": [
    "# Find root of two-dimensional function:\n",
    "sol = root(lambda x: [5*x[0]+7*x[1]-3, 3*x[0]+9*x[1]-5], x0=[0,0])\n",
    "print(sol)\n",
    "print(sol.x)"
   ]
  },
  {
   "cell_type": "markdown",
   "metadata": {},
   "source": [
    "## Optimization"
   ]
  },
  {
   "cell_type": "code",
   "execution_count": 13,
   "metadata": {},
   "outputs": [
    {
     "name": "stdout",
     "output_type": "stream",
     "text": [
      " message: \n",
      "          Optimization terminated successfully;\n",
      "          The returned value satisfies the termination criteria\n",
      "          (using xtol = 1.48e-08 )\n",
      " success: True\n",
      "     fun: -9.914949590828147\n",
      "       x: 1.2807764040333458\n",
      "     nit: 11\n",
      "    nfev: 14\n"
     ]
    }
   ],
   "source": [
    "from scipy.optimize import minimize_scalar\n",
    "print(minimize_scalar(f))"
   ]
  },
  {
   "cell_type": "code",
   "execution_count": 14,
   "metadata": {},
   "outputs": [
    {
     "name": "stdout",
     "output_type": "stream",
     "text": [
      " message: Solution found.\n",
      " success: True\n",
      "  status: 0\n",
      "     fun: 3.2836517984978577e-13\n",
      "       x: -2.000000202597239\n",
      "     nit: 12\n",
      "    nfev: 12\n"
     ]
    }
   ],
   "source": [
    "print(minimize_scalar(f, bounds=(-3,-1), method='bounded'))"
   ]
  },
  {
   "cell_type": "code",
   "execution_count": 21,
   "metadata": {},
   "outputs": [
    {
     "data": {
      "image/png": "[encoded data removed]",
      "text/plain": [
       "<Figure size 432x288 with 2 Axes>"
      ]
     },
     "metadata": {
      "needs_background": "light"
     },
     "output_type": "display_data"
    }
   ],
   "source": [
    "from scipy.optimize import minimize\n",
    "\n",
    "def g(vars):\n",
    "    x,y = vars\n",
    "    return (x-1)**2 + (y-2)**2\n",
    "\n",
    "x=np.linspace(-6, 6, 101)\n",
    "y=np.linspace(-6, 6, 101)\n",
    "plt.contourf(x, y, g(np.meshgrid(x,y)))\n",
    "plt.axis('scaled')\n",
    "plt.colorbar();"
   ]
  },
  {
   "cell_type": "code",
   "execution_count": 22,
   "metadata": {},
   "outputs": [
    {
     "data": {
      "text/plain": [
       "       message: Optimization terminated successfully.\n",
       "       success: True\n",
       "        status: 0\n",
       "           fun: 1.869184419935774e-09\n",
       "             x: [ 1.000e+00  2.000e+00]\n",
       "           nit: 66\n",
       "          nfev: 127\n",
       " final_simplex: (array([[ 1.000e+00,  2.000e+00],\n",
       "                       [ 1.000e+00,  2.000e+00],\n",
       "                       [ 9.999e-01,  2.000e+00]]), array([ 1.869e-09,  2.928e-09,  3.002e-09]))"
      ]
     },
     "execution_count": 22,
     "metadata": {},
     "output_type": "execute_result"
    }
   ],
   "source": [
    "minimize(g, (0,0), method='Nelder-Mead')"
   ]
  },
  {
   "cell_type": "markdown",
   "metadata": {},
   "source": [
    "## Statistics"
   ]
  },
  {
   "cell_type": "code",
   "execution_count": 23,
   "metadata": {},
   "outputs": [
    {
     "data": {
      "image/png": "[encoded data removed]",
      "text/plain": [
       "<Figure size 432x288 with 1 Axes>"
      ]
     },
     "metadata": {
      "needs_background": "light"
     },
     "output_type": "display_data"
    },
    {
     "name": "stdout",
     "output_type": "stream",
     "text": [
      "TtestResult(statistic=14.839513414481315, pvalue=5.521967909261471e-34, df=198.0)\n"
     ]
    }
   ],
   "source": [
    "from scipy.stats import ttest_ind\n",
    "grades_5784 = np.random.normal(80,10,size=100)\n",
    "grades_5785 = np.random.normal(60,10,size=100)\n",
    "plt.hist(grades_5784, bins=100)\n",
    "plt.hist(grades_5785, bins=100); plt.show()\n",
    "print(ttest_ind(grades_5784, grades_5785))   # Test the hypothesis that the average grade is the same. pvalue = probility that the average is the same."
   ]
  }
 ],
 "metadata": {
  "kernelspec": {
   "display_name": "Python 3",
   "language": "python",
   "name": "python3"
  },
  "language_info": {
   "codemirror_mode": {
    "name": "ipython",
    "version": 3
   },
   "file_extension": ".py",
   "mimetype": "text/x-python",
   "name": "python",
   "nbconvert_exporter": "python",
   "pygments_lexer": "ipython3",
   "version": "3.10.2"
  }
 },
 "nbformat": 4,
 "nbformat_minor": 4
}
