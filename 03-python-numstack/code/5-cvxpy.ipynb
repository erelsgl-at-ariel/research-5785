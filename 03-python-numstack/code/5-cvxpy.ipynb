{
 "cells": [
  {
   "cell_type": "code",
   "execution_count": 1,
   "metadata": {},
   "outputs": [],
   "source": [
    "import numpy as np, matplotlib.pyplot as plt\n",
    "import cvxpy\n",
    "\n",
    "# import cvxopt  # for GLPK_MI solver. pip install cvxopt\n",
    "import scip    # for SCIP solver.    pip install pyscipopt"
   ]
  },
  {
   "cell_type": "markdown",
   "metadata": {},
   "source": [
    "## Optimal solution"
   ]
  },
  {
   "cell_type": "code",
   "execution_count": 3,
   "metadata": {},
   "outputs": [
    {
     "name": "stdout",
     "output_type": "stream",
     "text": [
      "status: optimal\n",
      "optimal value 0.0\n",
      "optimal var: x = 2.5 , y = 2.5 \n"
     ]
    }
   ],
   "source": [
    "# Create two scalar optimization variables.\n",
    "x = cvxpy.Variable()\n",
    "y = cvxpy.Variable()\n",
    "\n",
    "# Form objective.\n",
    "objective = cvxpy.Minimize((x - y)**2)\n",
    "\n",
    "# Create constraints.\n",
    "constraints = [x + y == 5,\n",
    "               1 <= x, x <= 3, \n",
    "               y >= 1, 3 >= y,\n",
    "               x >= y] \n",
    "# Note: constraints can only use ==, >=, <=.  The other operators are not allowed.\n",
    "\n",
    "# Form and solve problem.\n",
    "prob = cvxpy.Problem(objective, constraints)\n",
    "prob.solve()  # Returns the optimal value.\n",
    "print(\"status:\", prob.status)\n",
    "print(\"optimal value\", np.round(prob.value,3))\n",
    "print(f\"optimal var: x = {np.round(x.value,3)} , y = {np.round(y.value,3)} \")"
   ]
  },
  {
   "cell_type": "code",
   "execution_count": 4,
   "metadata": {},
   "outputs": [
    {
     "name": "stdout",
     "output_type": "stream",
     "text": [
      "status: infeasible\n",
      "optimal value inf\n"
     ]
    }
   ],
   "source": [
    "x = cvxpy.Variable()\n",
    "y = cvxpy.Variable()\n",
    "\n",
    "# An infeasible problem.\n",
    "constraints = [x + y == 4,\n",
    "               1 <= x, x <= 3, \n",
    "               y >= 5, 7 >= y] \n",
    "prob = cvxpy.Problem(cvxpy.Minimize(x), constraints)\n",
    "prob.solve()\n",
    "print(\"status:\", prob.status)\n",
    "print(\"optimal value\", prob.value)  # value is irrelevant for infeasible programs\n"
   ]
  },
  {
   "cell_type": "markdown",
   "metadata": {},
   "source": [
    "## Unbounded problem"
   ]
  },
  {
   "cell_type": "code",
   "execution_count": 5,
   "metadata": {},
   "outputs": [
    {
     "name": "stdout",
     "output_type": "stream",
     "text": [
      "status: unbounded\n",
      "optimal value -inf\n"
     ]
    }
   ],
   "source": [
    "\n",
    "prob = cvxpy.Problem(cvxpy.Minimize(x), constraints=[x <= 1])\n",
    "prob.solve()\n",
    "print(\"status:\", prob.status)\n",
    "print(\"optimal value\", prob.value)"
   ]
  },
  {
   "cell_type": "markdown",
   "metadata": {},
   "source": [
    "## Integer programs"
   ]
  },
  {
   "cell_type": "code",
   "execution_count": 14,
   "metadata": {},
   "outputs": [
    {
     "name": "stdout",
     "output_type": "stream",
     "text": [
      "status: optimal\n",
      "optimal value 1.0\n",
      "optimal var: x = 3.0 , y = 2.0 \n"
     ]
    }
   ],
   "source": [
    "# Create two scalar optimization variables.\n",
    "x = cvxpy.Variable(integer=True)\n",
    "y = cvxpy.Variable(integer=True)\n",
    "\n",
    "# Form objective.\n",
    "objective = cvxpy.Minimize((x - y)**2)\n",
    "# objective = cvxpy.Minimize((x - y))\n",
    "\n",
    "# Create constraints.\n",
    "constraints = [x + y == 5,\n",
    "               1 <= x, x <= 3, \n",
    "               y >= 1, 3 >= y,\n",
    "               x >= y]\n",
    "# Note: constraints can only use ==, >=, <=.  The other operators are not allowed.\n",
    "\n",
    "# Form and solve problem.\n",
    "prob = cvxpy.Problem(objective, constraints)\n",
    "prob.solve()\n",
    "print(\"status:\", prob.status)\n",
    "print(\"optimal value\", prob.value)\n",
    "print(f\"optimal var: x = {x.value.round(3)} , y = {y.value.round(3)} \")"
   ]
  },
  {
   "cell_type": "markdown",
   "metadata": {},
   "source": [
    "## Different solvers\n",
    "\n",
    "cvxpy supports [many different solvers](https://www.cvxpy.org/tutorial/solvers/index.html)."
   ]
  },
  {
   "cell_type": "code",
   "execution_count": 15,
   "metadata": {},
   "outputs": [
    {
     "name": "stdout",
     "output_type": "stream",
     "text": [
      "===============================================================================\n",
      "                                     CVXPY                                     \n",
      "                                     v1.6.4                                    \n",
      "===============================================================================\n",
      "(CVXPY) Mar 26 04:54:18 PM: Your problem has 2 variables, 6 constraints, and 0 parameters.\n",
      "(CVXPY) Mar 26 04:54:18 PM: It is compliant with the following grammars: DCP, DQCP\n",
      "(CVXPY) Mar 26 04:54:18 PM: (If you need to solve this problem multiple times, but with different data, consider using parameters.)\n",
      "(CVXPY) Mar 26 04:54:18 PM: CVXPY will first compile your problem; then, it will invoke a numerical solver to obtain a solution.\n",
      "(CVXPY) Mar 26 04:54:18 PM: Your problem is compiled with the CPP canonicalization backend.\n",
      "-------------------------------------------------------------------------------\n",
      "                                  Compilation                                  \n",
      "-------------------------------------------------------------------------------\n",
      "(CVXPY) Mar 26 04:54:18 PM: Using cached ASA map, for faster compilation (bypassing reduction chain).\n",
      "(CVXPY) Mar 26 04:54:18 PM: Finished problem compilation (took 3.032e-03 seconds).\n",
      "-------------------------------------------------------------------------------\n",
      "                                Numerical solver                               \n",
      "-------------------------------------------------------------------------------\n",
      "(CVXPY) Mar 26 04:54:18 PM: Invoking solver GUROBI  to obtain a solution.\n",
      "Set parameter QCPDual to value 1\n",
      "Gurobi Optimizer version 11.0.1 build v11.0.1rc0 (win64 - Windows 11.0 (22631.2))\n",
      "\n",
      "CPU model: Intel(R) Core(TM) i7-8750H CPU @ 2.20GHz, instruction set [SSE2|AVX|AVX2]\n",
      "Thread count: 6 physical cores, 12 logical processors, using up to 12 threads\n",
      "\n",
      "Optimize a model with 7 rows, 3 columns and 11 nonzeros\n",
      "Model fingerprint: 0xc70cdfe4\n",
      "Model has 1 quadratic objective term\n",
      "Variable types: 1 continuous, 2 integer (0 binary)\n",
      "Coefficient statistics:\n",
      "  Matrix range     [1e+00, 1e+00]\n",
      "  Objective range  [0e+00, 0e+00]\n",
      "  QObjective range [2e+00, 2e+00]\n",
      "  Bounds range     [0e+00, 0e+00]\n",
      "  RHS range        [1e+00, 5e+00]\n",
      "\n",
      "Loaded user MIP start with objective 1\n",
      "\n",
      "Presolve removed 7 rows and 3 columns\n",
      "Presolve time: 0.00s\n",
      "Presolve: All rows and columns removed\n",
      "\n",
      "Explored 0 nodes (0 simplex iterations) in 0.01 seconds (0.00 work units)\n",
      "Thread count was 1 (of 12 available processors)\n",
      "\n",
      "Solution count 1: 1 \n",
      "\n",
      "Optimal solution found (tolerance 1.00e-04)\n",
      "Best objective 1.000000000000e+00, best bound 1.000000000000e+00, gap 0.0000%\n",
      "-------------------------------------------------------------------------------\n",
      "                                    Summary                                    \n",
      "-------------------------------------------------------------------------------\n",
      "(CVXPY) Mar 26 04:54:18 PM: Problem status: optimal\n",
      "(CVXPY) Mar 26 04:54:18 PM: Optimal value: 1.000e+00\n",
      "(CVXPY) Mar 26 04:54:18 PM: Compilation took 3.032e-03 seconds\n",
      "(CVXPY) Mar 26 04:54:18 PM: Solver (including time spent in interface) took 2.738e-02 seconds\n"
     ]
    },
    {
     "data": {
      "text/plain": [
       "1.0"
      ]
     },
     "execution_count": 15,
     "metadata": {},
     "output_type": "execute_result"
    }
   ],
   "source": [
    "prob.solve(verbose=True)"
   ]
  },
  {
   "cell_type": "code",
   "execution_count": null,
   "metadata": {},
   "outputs": [
    {
     "name": "stdout",
     "output_type": "stream",
     "text": [
      "===============================================================================\n",
      "                                     CVXPY                                     \n",
      "                                     v1.6.4                                    \n",
      "===============================================================================\n",
      "(CVXPY) Mar 26 04:56:03 PM: Your problem has 2 variables, 6 constraints, and 0 parameters.\n",
      "(CVXPY) Mar 26 04:56:03 PM: It is compliant with the following grammars: DCP, DQCP\n",
      "(CVXPY) Mar 26 04:56:03 PM: (If you need to solve this problem multiple times, but with different data, consider using parameters.)\n",
      "(CVXPY) Mar 26 04:56:03 PM: CVXPY will first compile your problem; then, it will invoke a numerical solver to obtain a solution.\n",
      "(CVXPY) Mar 26 04:56:03 PM: Your problem is compiled with the CPP canonicalization backend.\n"
     ]
    },
    {
     "ename": "SolverError",
     "evalue": "Either candidate conic solvers (['SCIPY']) do not support the cones output by the problem (SOC, NonNeg, Zero), or there are not enough constraints in the problem.",
     "output_type": "error",
     "traceback": [
      "\u001b[1;31m---------------------------------------------------------------------------\u001b[0m",
      "\u001b[1;31mSolverError\u001b[0m                               Traceback (most recent call last)",
      "Input \u001b[1;32mIn [17]\u001b[0m, in \u001b[0;36m<module>\u001b[1;34m\u001b[0m\n\u001b[1;32m----> 1\u001b[0m \u001b[43mprob\u001b[49m\u001b[38;5;241;43m.\u001b[39;49m\u001b[43msolve\u001b[49m\u001b[43m(\u001b[49m\u001b[43msolver\u001b[49m\u001b[38;5;241;43m=\u001b[39;49m\u001b[43mcvxpy\u001b[49m\u001b[38;5;241;43m.\u001b[39;49m\u001b[43mSCIPY\u001b[49m\u001b[43m,\u001b[49m\u001b[43m \u001b[49m\u001b[43mverbose\u001b[49m\u001b[38;5;241;43m=\u001b[39;49m\u001b[38;5;28;43;01mTrue\u001b[39;49;00m\u001b[43m)\u001b[49m\n",
      "File \u001b[1;32mc:\\Users\\user\\AppData\\Local\\Programs\\Python\\Python310\\lib\\site-packages\\cvxpy\\problems\\problem.py:600\u001b[0m, in \u001b[0;36mProblem.solve\u001b[1;34m(self, *args, **kwargs)\u001b[0m\n\u001b[0;32m    597\u001b[0m         \u001b[38;5;28;01mraise\u001b[39;00m \u001b[38;5;167;01mValueError\u001b[39;00m(\n\u001b[0;32m    598\u001b[0m             \u001b[38;5;124m\"\u001b[39m\u001b[38;5;124mCannot specify both \u001b[39m\u001b[38;5;124m'\u001b[39m\u001b[38;5;124msolver\u001b[39m\u001b[38;5;124m'\u001b[39m\u001b[38;5;124m and \u001b[39m\u001b[38;5;124m'\u001b[39m\u001b[38;5;124msolver_path\u001b[39m\u001b[38;5;124m'\u001b[39m\u001b[38;5;124m. Please choose one.\u001b[39m\u001b[38;5;124m\"\u001b[39m)\n\u001b[0;32m    599\u001b[0m     \u001b[38;5;28;01mreturn\u001b[39;00m \u001b[38;5;28mself\u001b[39m\u001b[38;5;241m.\u001b[39m_solve_solver_path(solve_func,solver_path, args, kwargs)\n\u001b[1;32m--> 600\u001b[0m \u001b[38;5;28;01mreturn\u001b[39;00m solve_func(\u001b[38;5;28mself\u001b[39m, \u001b[38;5;241m*\u001b[39margs, \u001b[38;5;241m*\u001b[39m\u001b[38;5;241m*\u001b[39mkwargs)\n",
      "File \u001b[1;32mc:\\Users\\user\\AppData\\Local\\Programs\\Python\\Python310\\lib\\site-packages\\cvxpy\\problems\\problem.py:1170\u001b[0m, in \u001b[0;36mProblem._solve\u001b[1;34m(self, solver, warm_start, verbose, gp, qcp, requires_grad, enforce_dpp, ignore_dpp, canon_backend, **kwargs)\u001b[0m\n\u001b[0;32m   1167\u001b[0m         \u001b[38;5;28mself\u001b[39m\u001b[38;5;241m.\u001b[39munpack(chain\u001b[38;5;241m.\u001b[39mretrieve(soln))\n\u001b[0;32m   1168\u001b[0m         \u001b[38;5;28;01mreturn\u001b[39;00m \u001b[38;5;28mself\u001b[39m\u001b[38;5;241m.\u001b[39mvalue\n\u001b[1;32m-> 1170\u001b[0m data, solving_chain, inverse_data \u001b[38;5;241m=\u001b[39m \u001b[38;5;28;43mself\u001b[39;49m\u001b[38;5;241;43m.\u001b[39;49m\u001b[43mget_problem_data\u001b[49m\u001b[43m(\u001b[49m\n\u001b[0;32m   1171\u001b[0m \u001b[43m    \u001b[49m\u001b[43msolver\u001b[49m\u001b[43m,\u001b[49m\u001b[43m \u001b[49m\u001b[43mgp\u001b[49m\u001b[43m,\u001b[49m\u001b[43m \u001b[49m\u001b[43menforce_dpp\u001b[49m\u001b[43m,\u001b[49m\u001b[43m \u001b[49m\u001b[43mignore_dpp\u001b[49m\u001b[43m,\u001b[49m\u001b[43m \u001b[49m\u001b[43mverbose\u001b[49m\u001b[43m,\u001b[49m\u001b[43m \u001b[49m\u001b[43mcanon_backend\u001b[49m\u001b[43m,\u001b[49m\u001b[43m \u001b[49m\u001b[43mkwargs\u001b[49m\n\u001b[0;32m   1172\u001b[0m \u001b[43m\u001b[49m\u001b[43m)\u001b[49m\n\u001b[0;32m   1174\u001b[0m \u001b[38;5;28;01mif\u001b[39;00m verbose:\n\u001b[0;32m   1175\u001b[0m     \u001b[38;5;28mprint\u001b[39m(_NUM_SOLVER_STR)\n",
      "File \u001b[1;32mc:\\Users\\user\\AppData\\Local\\Programs\\Python\\Python310\\lib\\site-packages\\cvxpy\\problems\\problem.py:743\u001b[0m, in \u001b[0;36mProblem.get_problem_data\u001b[1;34m(self, solver, gp, enforce_dpp, ignore_dpp, verbose, canon_backend, solver_opts)\u001b[0m\n\u001b[0;32m    741\u001b[0m \u001b[38;5;28;01mif\u001b[39;00m key \u001b[38;5;241m!=\u001b[39m \u001b[38;5;28mself\u001b[39m\u001b[38;5;241m.\u001b[39m_cache\u001b[38;5;241m.\u001b[39mkey:\n\u001b[0;32m    742\u001b[0m     \u001b[38;5;28mself\u001b[39m\u001b[38;5;241m.\u001b[39m_cache\u001b[38;5;241m.\u001b[39minvalidate()\n\u001b[1;32m--> 743\u001b[0m     solving_chain \u001b[38;5;241m=\u001b[39m \u001b[38;5;28;43mself\u001b[39;49m\u001b[38;5;241;43m.\u001b[39;49m\u001b[43m_construct_chain\u001b[49m\u001b[43m(\u001b[49m\n\u001b[0;32m    744\u001b[0m \u001b[43m        \u001b[49m\u001b[43msolver\u001b[49m\u001b[38;5;241;43m=\u001b[39;49m\u001b[43msolver\u001b[49m\u001b[43m,\u001b[49m\u001b[43m \u001b[49m\u001b[43mgp\u001b[49m\u001b[38;5;241;43m=\u001b[39;49m\u001b[43mgp\u001b[49m\u001b[43m,\u001b[49m\n\u001b[0;32m    745\u001b[0m \u001b[43m        \u001b[49m\u001b[43menforce_dpp\u001b[49m\u001b[38;5;241;43m=\u001b[39;49m\u001b[43menforce_dpp\u001b[49m\u001b[43m,\u001b[49m\n\u001b[0;32m    746\u001b[0m \u001b[43m        \u001b[49m\u001b[43mignore_dpp\u001b[49m\u001b[38;5;241;43m=\u001b[39;49m\u001b[43mignore_dpp\u001b[49m\u001b[43m,\u001b[49m\n\u001b[0;32m    747\u001b[0m \u001b[43m        \u001b[49m\u001b[43mcanon_backend\u001b[49m\u001b[38;5;241;43m=\u001b[39;49m\u001b[43mcanon_backend\u001b[49m\u001b[43m,\u001b[49m\n\u001b[0;32m    748\u001b[0m \u001b[43m        \u001b[49m\u001b[43msolver_opts\u001b[49m\u001b[38;5;241;43m=\u001b[39;49m\u001b[43msolver_opts\u001b[49m\u001b[43m)\u001b[49m\n\u001b[0;32m    749\u001b[0m     \u001b[38;5;28mself\u001b[39m\u001b[38;5;241m.\u001b[39m_cache\u001b[38;5;241m.\u001b[39mkey \u001b[38;5;241m=\u001b[39m key\n\u001b[0;32m    750\u001b[0m     \u001b[38;5;28mself\u001b[39m\u001b[38;5;241m.\u001b[39m_cache\u001b[38;5;241m.\u001b[39msolving_chain \u001b[38;5;241m=\u001b[39m solving_chain\n",
      "File \u001b[1;32mc:\\Users\\user\\AppData\\Local\\Programs\\Python\\Python310\\lib\\site-packages\\cvxpy\\problems\\problem.py:994\u001b[0m, in \u001b[0;36mProblem._construct_chain\u001b[1;34m(self, solver, gp, enforce_dpp, ignore_dpp, canon_backend, solver_opts)\u001b[0m\n\u001b[0;32m    992\u001b[0m candidate_solvers \u001b[38;5;241m=\u001b[39m \u001b[38;5;28mself\u001b[39m\u001b[38;5;241m.\u001b[39m_find_candidate_solvers(solver\u001b[38;5;241m=\u001b[39msolver, gp\u001b[38;5;241m=\u001b[39mgp)\n\u001b[0;32m    993\u001b[0m \u001b[38;5;28mself\u001b[39m\u001b[38;5;241m.\u001b[39m_sort_candidate_solvers(candidate_solvers)\n\u001b[1;32m--> 994\u001b[0m \u001b[38;5;28;01mreturn\u001b[39;00m \u001b[43mconstruct_solving_chain\u001b[49m\u001b[43m(\u001b[49m\u001b[38;5;28;43mself\u001b[39;49m\u001b[43m,\u001b[49m\u001b[43m \u001b[49m\u001b[43mcandidate_solvers\u001b[49m\u001b[43m,\u001b[49m\u001b[43m \u001b[49m\u001b[43mgp\u001b[49m\u001b[38;5;241;43m=\u001b[39;49m\u001b[43mgp\u001b[49m\u001b[43m,\u001b[49m\n\u001b[0;32m    995\u001b[0m \u001b[43m                               \u001b[49m\u001b[43menforce_dpp\u001b[49m\u001b[38;5;241;43m=\u001b[39;49m\u001b[43menforce_dpp\u001b[49m\u001b[43m,\u001b[49m\n\u001b[0;32m    996\u001b[0m \u001b[43m                               \u001b[49m\u001b[43mignore_dpp\u001b[49m\u001b[38;5;241;43m=\u001b[39;49m\u001b[43mignore_dpp\u001b[49m\u001b[43m,\u001b[49m\n\u001b[0;32m    997\u001b[0m \u001b[43m                               \u001b[49m\u001b[43mcanon_backend\u001b[49m\u001b[38;5;241;43m=\u001b[39;49m\u001b[43mcanon_backend\u001b[49m\u001b[43m,\u001b[49m\n\u001b[0;32m    998\u001b[0m \u001b[43m                               \u001b[49m\u001b[43msolver_opts\u001b[49m\u001b[38;5;241;43m=\u001b[39;49m\u001b[43msolver_opts\u001b[49m\u001b[43m,\u001b[49m\n\u001b[0;32m    999\u001b[0m \u001b[43m                               \u001b[49m\u001b[43mspecified_solver\u001b[49m\u001b[38;5;241;43m=\u001b[39;49m\u001b[43msolver\u001b[49m\u001b[43m)\u001b[49m\n",
      "File \u001b[1;32mc:\\Users\\user\\AppData\\Local\\Programs\\Python\\Python310\\lib\\site-packages\\cvxpy\\reductions\\solvers\\solving_chain.py:377\u001b[0m, in \u001b[0;36mconstruct_solving_chain\u001b[1;34m(problem, candidates, gp, enforce_dpp, ignore_dpp, canon_backend, solver_opts, specified_solver)\u001b[0m\n\u001b[0;32m    370\u001b[0m             reductions \u001b[38;5;241m+\u001b[39m\u001b[38;5;241m=\u001b[39m [\n\u001b[0;32m    371\u001b[0m                 SOC2PSD(),\n\u001b[0;32m    372\u001b[0m                 ConeMatrixStuffing(quad_obj\u001b[38;5;241m=\u001b[39mquad_obj, canon_backend\u001b[38;5;241m=\u001b[39mcanon_backend),\n\u001b[0;32m    373\u001b[0m                 solver_instance\n\u001b[0;32m    374\u001b[0m             ]\n\u001b[0;32m    375\u001b[0m             \u001b[38;5;28;01mreturn\u001b[39;00m SolvingChain(reductions\u001b[38;5;241m=\u001b[39mreductions)\n\u001b[1;32m--> 377\u001b[0m \u001b[38;5;28;01mraise\u001b[39;00m SolverError(\u001b[38;5;124m\"\u001b[39m\u001b[38;5;124mEither candidate conic solvers (\u001b[39m\u001b[38;5;132;01m%s\u001b[39;00m\u001b[38;5;124m) do not support the \u001b[39m\u001b[38;5;124m\"\u001b[39m\n\u001b[0;32m    378\u001b[0m                   \u001b[38;5;124m\"\u001b[39m\u001b[38;5;124mcones output by the problem (\u001b[39m\u001b[38;5;132;01m%s\u001b[39;00m\u001b[38;5;124m), or there are not \u001b[39m\u001b[38;5;124m\"\u001b[39m\n\u001b[0;32m    379\u001b[0m                   \u001b[38;5;124m\"\u001b[39m\u001b[38;5;124menough constraints in the problem.\u001b[39m\u001b[38;5;124m\"\u001b[39m \u001b[38;5;241m%\u001b[39m (\n\u001b[0;32m    380\u001b[0m                       candidates[\u001b[38;5;124m'\u001b[39m\u001b[38;5;124mconic_solvers\u001b[39m\u001b[38;5;124m'\u001b[39m],\n\u001b[0;32m    381\u001b[0m                       \u001b[38;5;124m\"\u001b[39m\u001b[38;5;124m, \u001b[39m\u001b[38;5;124m\"\u001b[39m\u001b[38;5;241m.\u001b[39mjoin([cone\u001b[38;5;241m.\u001b[39m\u001b[38;5;18m__name__\u001b[39m \u001b[38;5;28;01mfor\u001b[39;00m cone \u001b[38;5;129;01min\u001b[39;00m cones])))\n",
      "\u001b[1;31mSolverError\u001b[0m: Either candidate conic solvers (['SCIPY']) do not support the cones output by the problem (SOC, NonNeg, Zero), or there are not enough constraints in the problem."
     ]
    }
   ],
   "source": [
    "prob.solve(solver=cvxpy.SCIPY, verbose=True)  # Error - can only solve linear programs"
   ]
  },
  {
   "cell_type": "code",
   "execution_count": 19,
   "metadata": {},
   "outputs": [
    {
     "name": "stdout",
     "output_type": "stream",
     "text": [
      "===============================================================================\n",
      "                                     CVXPY                                     \n",
      "                                     v1.6.4                                    \n",
      "===============================================================================\n",
      "(CVXPY) Mar 26 04:58:04 PM: Your problem has 2 variables, 6 constraints, and 0 parameters.\n",
      "(CVXPY) Mar 26 04:58:04 PM: It is compliant with the following grammars: DCP, DQCP\n",
      "(CVXPY) Mar 26 04:58:04 PM: (If you need to solve this problem multiple times, but with different data, consider using parameters.)\n",
      "(CVXPY) Mar 26 04:58:04 PM: CVXPY will first compile your problem; then, it will invoke a numerical solver to obtain a solution.\n",
      "(CVXPY) Mar 26 04:58:04 PM: Your problem is compiled with the CPP canonicalization backend.\n",
      "-------------------------------------------------------------------------------\n",
      "                                  Compilation                                  \n",
      "-------------------------------------------------------------------------------\n",
      "(CVXPY) Mar 26 04:58:04 PM: Compiling problem (target solver=SCIPY).\n",
      "(CVXPY) Mar 26 04:58:04 PM: Reduction chain: Dcp2Cone -> CvxAttr2Constr -> ConeMatrixStuffing -> SCIPY\n",
      "(CVXPY) Mar 26 04:58:04 PM: Applying reduction Dcp2Cone\n",
      "(CVXPY) Mar 26 04:58:04 PM: Applying reduction CvxAttr2Constr\n",
      "(CVXPY) Mar 26 04:58:04 PM: Applying reduction ConeMatrixStuffing\n",
      "(CVXPY) Mar 26 04:58:04 PM: Applying reduction SCIPY\n",
      "(CVXPY) Mar 26 04:58:04 PM: Finished problem compilation (took 2.214e-02 seconds).\n",
      "-------------------------------------------------------------------------------\n",
      "                                Numerical solver                               \n",
      "-------------------------------------------------------------------------------\n",
      "(CVXPY) Mar 26 04:58:04 PM: Invoking solver SCIPY  to obtain a solution.\n",
      "Solver terminated with message: Optimization terminated successfully. (HiGHS Status 7: Optimal)\n",
      "-------------------------------------------------------------------------------\n",
      "                                    Summary                                    \n",
      "-------------------------------------------------------------------------------\n",
      "(CVXPY) Mar 26 04:58:04 PM: Problem status: optimal\n",
      "(CVXPY) Mar 26 04:58:04 PM: Optimal value: 1.000e+00\n",
      "(CVXPY) Mar 26 04:58:04 PM: Compilation took 2.214e-02 seconds\n",
      "(CVXPY) Mar 26 04:58:04 PM: Solver (including time spent in interface) took 1.962e-03 seconds\n"
     ]
    },
    {
     "data": {
      "text/plain": [
       "1.0"
      ]
     },
     "execution_count": 19,
     "metadata": {},
     "output_type": "execute_result"
    }
   ],
   "source": [
    "objective = cvxpy.Minimize(x - y)  # Now the objective is linear\n",
    "prob_lin = cvxpy.Problem(objective, constraints)\n",
    "prob_lin.solve(solver=cvxpy.SCIPY, verbose=True)  "
   ]
  },
  {
   "cell_type": "code",
   "execution_count": null,
   "metadata": {},
   "outputs": [
    {
     "name": "stdout",
     "output_type": "stream",
     "text": [
      "===============================================================================\n",
      "                                     CVXPY                                     \n",
      "                                     v1.6.4                                    \n",
      "===============================================================================\n",
      "(CVXPY) Mar 26 04:58:41 PM: Your problem has 2 variables, 6 constraints, and 0 parameters.\n",
      "(CVXPY) Mar 26 04:58:41 PM: It is compliant with the following grammars: DCP, DQCP\n",
      "(CVXPY) Mar 26 04:58:41 PM: (If you need to solve this problem multiple times, but with different data, consider using parameters.)\n",
      "(CVXPY) Mar 26 04:58:41 PM: CVXPY will first compile your problem; then, it will invoke a numerical solver to obtain a solution.\n",
      "(CVXPY) Mar 26 04:58:41 PM: Your problem is compiled with the CPP canonicalization backend.\n",
      "-------------------------------------------------------------------------------\n",
      "                                  Compilation                                  \n",
      "-------------------------------------------------------------------------------\n",
      "(CVXPY) Mar 26 04:58:41 PM: Compiling problem (target solver=GUROBI).\n",
      "(CVXPY) Mar 26 04:58:41 PM: Reduction chain: Dcp2Cone -> CvxAttr2Constr -> ConeMatrixStuffing -> GUROBI\n",
      "(CVXPY) Mar 26 04:58:41 PM: Applying reduction Dcp2Cone\n",
      "(CVXPY) Mar 26 04:58:41 PM: Applying reduction CvxAttr2Constr\n",
      "(CVXPY) Mar 26 04:58:41 PM: Applying reduction ConeMatrixStuffing\n",
      "(CVXPY) Mar 26 04:58:41 PM: Applying reduction GUROBI\n",
      "(CVXPY) Mar 26 04:58:41 PM: Finished problem compilation (took 3.201e-02 seconds).\n",
      "-------------------------------------------------------------------------------\n",
      "                                Numerical solver                               \n",
      "-------------------------------------------------------------------------------\n",
      "(CVXPY) Mar 26 04:58:41 PM: Invoking solver GUROBI  to obtain a solution.\n",
      "Set parameter QCPDual to value 1\n"
     ]
    },
    {
     "ename": "GurobiError",
     "evalue": "Unknown parameter 'solvers'",
     "output_type": "error",
     "traceback": [
      "\u001b[1;31m---------------------------------------------------------------------------\u001b[0m",
      "\u001b[1;31mGurobiError\u001b[0m                               Traceback (most recent call last)",
      "Input \u001b[1;32mIn [20]\u001b[0m, in \u001b[0;36m<module>\u001b[1;34m\u001b[0m\n\u001b[1;32m----> 1\u001b[0m \u001b[43mprob_lin\u001b[49m\u001b[38;5;241;43m.\u001b[39;49m\u001b[43msolve\u001b[49m\u001b[43m(\u001b[49m\u001b[43msolvers\u001b[49m\u001b[38;5;241;43m=\u001b[39;49m\u001b[43m[\u001b[49m\u001b[43mcvxpy\u001b[49m\u001b[38;5;241;43m.\u001b[39;49m\u001b[43mSCIPY\u001b[49m\u001b[43m,\u001b[49m\u001b[43mcvxpy\u001b[49m\u001b[38;5;241;43m.\u001b[39;49m\u001b[43mGUROBI\u001b[49m\u001b[43m]\u001b[49m\u001b[43m,\u001b[49m\u001b[43m \u001b[49m\u001b[43mverbose\u001b[49m\u001b[38;5;241;43m=\u001b[39;49m\u001b[38;5;28;43;01mTrue\u001b[39;49;00m\u001b[43m)\u001b[49m\n",
      "File \u001b[1;32mc:\\Users\\user\\AppData\\Local\\Programs\\Python\\Python310\\lib\\site-packages\\cvxpy\\problems\\problem.py:600\u001b[0m, in \u001b[0;36mProblem.solve\u001b[1;34m(self, *args, **kwargs)\u001b[0m\n\u001b[0;32m    597\u001b[0m         \u001b[38;5;28;01mraise\u001b[39;00m \u001b[38;5;167;01mValueError\u001b[39;00m(\n\u001b[0;32m    598\u001b[0m             \u001b[38;5;124m\"\u001b[39m\u001b[38;5;124mCannot specify both \u001b[39m\u001b[38;5;124m'\u001b[39m\u001b[38;5;124msolver\u001b[39m\u001b[38;5;124m'\u001b[39m\u001b[38;5;124m and \u001b[39m\u001b[38;5;124m'\u001b[39m\u001b[38;5;124msolver_path\u001b[39m\u001b[38;5;124m'\u001b[39m\u001b[38;5;124m. Please choose one.\u001b[39m\u001b[38;5;124m\"\u001b[39m)\n\u001b[0;32m    599\u001b[0m     \u001b[38;5;28;01mreturn\u001b[39;00m \u001b[38;5;28mself\u001b[39m\u001b[38;5;241m.\u001b[39m_solve_solver_path(solve_func,solver_path, args, kwargs)\n\u001b[1;32m--> 600\u001b[0m \u001b[38;5;28;01mreturn\u001b[39;00m solve_func(\u001b[38;5;28mself\u001b[39m, \u001b[38;5;241m*\u001b[39margs, \u001b[38;5;241m*\u001b[39m\u001b[38;5;241m*\u001b[39mkwargs)\n",
      "File \u001b[1;32mc:\\Users\\user\\AppData\\Local\\Programs\\Python\\Python310\\lib\\site-packages\\cvxpy\\problems\\problem.py:1183\u001b[0m, in \u001b[0;36mProblem._solve\u001b[1;34m(self, solver, warm_start, verbose, gp, qcp, requires_grad, enforce_dpp, ignore_dpp, canon_backend, **kwargs)\u001b[0m\n\u001b[0;32m   1181\u001b[0m \u001b[38;5;28;01mif\u001b[39;00m solver_verbose \u001b[38;5;129;01mand\u001b[39;00m (\u001b[38;5;129;01mnot\u001b[39;00m verbose):\n\u001b[0;32m   1182\u001b[0m     \u001b[38;5;28mprint\u001b[39m(_NUM_SOLVER_STR)\n\u001b[1;32m-> 1183\u001b[0m solution \u001b[38;5;241m=\u001b[39m \u001b[43msolving_chain\u001b[49m\u001b[38;5;241;43m.\u001b[39;49m\u001b[43msolve_via_data\u001b[49m\u001b[43m(\u001b[49m\n\u001b[0;32m   1184\u001b[0m \u001b[43m    \u001b[49m\u001b[38;5;28;43mself\u001b[39;49m\u001b[43m,\u001b[49m\u001b[43m \u001b[49m\u001b[43mdata\u001b[49m\u001b[43m,\u001b[49m\u001b[43m \u001b[49m\u001b[43mwarm_start\u001b[49m\u001b[43m,\u001b[49m\u001b[43m \u001b[49m\u001b[43msolver_verbose\u001b[49m\u001b[43m,\u001b[49m\u001b[43m \u001b[49m\u001b[43mkwargs\u001b[49m\u001b[43m)\u001b[49m\n\u001b[0;32m   1185\u001b[0m end \u001b[38;5;241m=\u001b[39m time\u001b[38;5;241m.\u001b[39mtime()\n\u001b[0;32m   1186\u001b[0m \u001b[38;5;28mself\u001b[39m\u001b[38;5;241m.\u001b[39m_solve_time \u001b[38;5;241m=\u001b[39m end \u001b[38;5;241m-\u001b[39m start\n",
      "File \u001b[1;32mc:\\Users\\user\\AppData\\Local\\Programs\\Python\\Python310\\lib\\site-packages\\cvxpy\\reductions\\solvers\\solving_chain.py:524\u001b[0m, in \u001b[0;36mSolvingChain.solve_via_data\u001b[1;34m(self, problem, data, warm_start, verbose, solver_opts)\u001b[0m\n\u001b[0;32m    488\u001b[0m \u001b[38;5;28;01mdef\u001b[39;00m \u001b[38;5;21msolve_via_data\u001b[39m(\u001b[38;5;28mself\u001b[39m, problem, data, warm_start: \u001b[38;5;28mbool\u001b[39m \u001b[38;5;241m=\u001b[39m \u001b[38;5;28;01mFalse\u001b[39;00m, verbose: \u001b[38;5;28mbool\u001b[39m \u001b[38;5;241m=\u001b[39m \u001b[38;5;28;01mFalse\u001b[39;00m,\n\u001b[0;32m    489\u001b[0m                    solver_opts\u001b[38;5;241m=\u001b[39m{}):\n\u001b[0;32m    490\u001b[0m     \u001b[38;5;124;03m\"\"\"Solves the problem using the data output by the an apply invocation.\u001b[39;00m\n\u001b[0;32m    491\u001b[0m \n\u001b[0;32m    492\u001b[0m \u001b[38;5;124;03m    The semantics are:\u001b[39;00m\n\u001b[1;32m   (...)\u001b[0m\n\u001b[0;32m    522\u001b[0m \u001b[38;5;124;03m        a Solution object.\u001b[39;00m\n\u001b[0;32m    523\u001b[0m \u001b[38;5;124;03m    \"\"\"\u001b[39;00m\n\u001b[1;32m--> 524\u001b[0m     \u001b[38;5;28;01mreturn\u001b[39;00m \u001b[38;5;28;43mself\u001b[39;49m\u001b[38;5;241;43m.\u001b[39;49m\u001b[43msolver\u001b[49m\u001b[38;5;241;43m.\u001b[39;49m\u001b[43msolve_via_data\u001b[49m\u001b[43m(\u001b[49m\u001b[43mdata\u001b[49m\u001b[43m,\u001b[49m\u001b[43m \u001b[49m\u001b[43mwarm_start\u001b[49m\u001b[43m,\u001b[49m\u001b[43m \u001b[49m\u001b[43mverbose\u001b[49m\u001b[43m,\u001b[49m\n\u001b[0;32m    525\u001b[0m \u001b[43m                                      \u001b[49m\u001b[43msolver_opts\u001b[49m\u001b[43m,\u001b[49m\u001b[43m \u001b[49m\u001b[43mproblem\u001b[49m\u001b[38;5;241;43m.\u001b[39;49m\u001b[43m_solver_cache\u001b[49m\u001b[43m)\u001b[49m\n",
      "File \u001b[1;32mc:\\Users\\user\\AppData\\Local\\Programs\\Python\\Python310\\lib\\site-packages\\cvxpy\\reductions\\solvers\\conic_solvers\\gurobi_conif.py:260\u001b[0m, in \u001b[0;36mGUROBI.solve_via_data\u001b[1;34m(self, data, warm_start, verbose, solver_opts, solver_cache)\u001b[0m\n\u001b[0;32m    257\u001b[0m \u001b[38;5;28;01mfor\u001b[39;00m key, value \u001b[38;5;129;01min\u001b[39;00m solver_opts\u001b[38;5;241m.\u001b[39mitems():\n\u001b[0;32m    258\u001b[0m     \u001b[38;5;66;03m# Ignore arguments unique to the CVXPY interface.\u001b[39;00m\n\u001b[0;32m    259\u001b[0m     \u001b[38;5;28;01mif\u001b[39;00m key \u001b[38;5;129;01mnot\u001b[39;00m \u001b[38;5;129;01min\u001b[39;00m \u001b[38;5;28mself\u001b[39m\u001b[38;5;241m.\u001b[39mINTERFACE_ARGS:\n\u001b[1;32m--> 260\u001b[0m         \u001b[43mmodel\u001b[49m\u001b[38;5;241;43m.\u001b[39;49m\u001b[43msetParam\u001b[49m\u001b[43m(\u001b[49m\u001b[43mkey\u001b[49m\u001b[43m,\u001b[49m\u001b[43m \u001b[49m\u001b[43mvalue\u001b[49m\u001b[43m)\u001b[49m\n\u001b[0;32m    262\u001b[0m solution \u001b[38;5;241m=\u001b[39m {}\n\u001b[0;32m    263\u001b[0m \u001b[38;5;28;01mtry\u001b[39;00m:\n",
      "File \u001b[1;32msrc\\\\gurobipy\\\\model.pxi:1791\u001b[0m, in \u001b[0;36mgurobipy.Model.setParam\u001b[1;34m()\u001b[0m\n",
      "File \u001b[1;32msrc\\\\gurobipy\\\\env.pxi:341\u001b[0m, in \u001b[0;36mgurobipy.Env.setParam\u001b[1;34m()\u001b[0m\n",
      "\u001b[1;31mGurobiError\u001b[0m: Unknown parameter 'solvers'"
     ]
    }
   ],
   "source": [
    "# prob_lin.solve(solvers=[cvxpy.SCIPY,cvxpy.GUROBI], verbose=True)  "
   ]
  },
  {
   "cell_type": "markdown",
   "metadata": {},
   "source": [
    "## Convex and concave"
   ]
  },
  {
   "cell_type": "code",
   "execution_count": 11,
   "metadata": {},
   "outputs": [
    {
     "ename": "DCPError",
     "evalue": "Problem does not follow DCP rules. Specifically:\nThe objective is not DCP, even though each sub-expression is.\nYou are trying to maximize a function that is convex.",
     "output_type": "error",
     "traceback": [
      "\u001b[1;31m---------------------------------------------------------------------------\u001b[0m",
      "\u001b[1;31mDCPError\u001b[0m                                  Traceback (most recent call last)",
      "Input \u001b[1;32mIn [11]\u001b[0m, in \u001b[0;36m<module>\u001b[1;34m\u001b[0m\n\u001b[0;32m      1\u001b[0m \u001b[38;5;66;03m# We can only maximize a concave function, or minimize a convex function, but not vice versa!\u001b[39;00m\n\u001b[0;32m      3\u001b[0m prob \u001b[38;5;241m=\u001b[39m cvxpy\u001b[38;5;241m.\u001b[39mProblem(cvxpy\u001b[38;5;241m.\u001b[39mMaximize(x\u001b[38;5;241m*\u001b[39m\u001b[38;5;241m*\u001b[39m\u001b[38;5;241m2\u001b[39m), constraints)\n\u001b[1;32m----> 4\u001b[0m \u001b[43mprob\u001b[49m\u001b[38;5;241;43m.\u001b[39;49m\u001b[43msolve\u001b[49m\u001b[43m(\u001b[49m\u001b[43m)\u001b[49m  \u001b[38;5;66;03m# Returns the optimal value.\u001b[39;00m\n\u001b[0;32m      5\u001b[0m \u001b[38;5;28mprint\u001b[39m(\u001b[38;5;124m\"\u001b[39m\u001b[38;5;124mstatus:\u001b[39m\u001b[38;5;124m\"\u001b[39m, prob\u001b[38;5;241m.\u001b[39mstatus)\n\u001b[0;32m      6\u001b[0m \u001b[38;5;28mprint\u001b[39m(\u001b[38;5;124m\"\u001b[39m\u001b[38;5;124moptimal value\u001b[39m\u001b[38;5;124m\"\u001b[39m, prob\u001b[38;5;241m.\u001b[39mvalue)\n",
      "File \u001b[1;32mc:\\Users\\user\\AppData\\Local\\Programs\\Python\\Python310\\lib\\site-packages\\cvxpy\\problems\\problem.py:600\u001b[0m, in \u001b[0;36mProblem.solve\u001b[1;34m(self, *args, **kwargs)\u001b[0m\n\u001b[0;32m    597\u001b[0m         \u001b[38;5;28;01mraise\u001b[39;00m \u001b[38;5;167;01mValueError\u001b[39;00m(\n\u001b[0;32m    598\u001b[0m             \u001b[38;5;124m\"\u001b[39m\u001b[38;5;124mCannot specify both \u001b[39m\u001b[38;5;124m'\u001b[39m\u001b[38;5;124msolver\u001b[39m\u001b[38;5;124m'\u001b[39m\u001b[38;5;124m and \u001b[39m\u001b[38;5;124m'\u001b[39m\u001b[38;5;124msolver_path\u001b[39m\u001b[38;5;124m'\u001b[39m\u001b[38;5;124m. Please choose one.\u001b[39m\u001b[38;5;124m\"\u001b[39m)\n\u001b[0;32m    599\u001b[0m     \u001b[38;5;28;01mreturn\u001b[39;00m \u001b[38;5;28mself\u001b[39m\u001b[38;5;241m.\u001b[39m_solve_solver_path(solve_func,solver_path, args, kwargs)\n\u001b[1;32m--> 600\u001b[0m \u001b[38;5;28;01mreturn\u001b[39;00m solve_func(\u001b[38;5;28mself\u001b[39m, \u001b[38;5;241m*\u001b[39margs, \u001b[38;5;241m*\u001b[39m\u001b[38;5;241m*\u001b[39mkwargs)\n",
      "File \u001b[1;32mc:\\Users\\user\\AppData\\Local\\Programs\\Python\\Python310\\lib\\site-packages\\cvxpy\\problems\\problem.py:1170\u001b[0m, in \u001b[0;36mProblem._solve\u001b[1;34m(self, solver, warm_start, verbose, gp, qcp, requires_grad, enforce_dpp, ignore_dpp, canon_backend, **kwargs)\u001b[0m\n\u001b[0;32m   1167\u001b[0m         \u001b[38;5;28mself\u001b[39m\u001b[38;5;241m.\u001b[39munpack(chain\u001b[38;5;241m.\u001b[39mretrieve(soln))\n\u001b[0;32m   1168\u001b[0m         \u001b[38;5;28;01mreturn\u001b[39;00m \u001b[38;5;28mself\u001b[39m\u001b[38;5;241m.\u001b[39mvalue\n\u001b[1;32m-> 1170\u001b[0m data, solving_chain, inverse_data \u001b[38;5;241m=\u001b[39m \u001b[38;5;28;43mself\u001b[39;49m\u001b[38;5;241;43m.\u001b[39;49m\u001b[43mget_problem_data\u001b[49m\u001b[43m(\u001b[49m\n\u001b[0;32m   1171\u001b[0m \u001b[43m    \u001b[49m\u001b[43msolver\u001b[49m\u001b[43m,\u001b[49m\u001b[43m \u001b[49m\u001b[43mgp\u001b[49m\u001b[43m,\u001b[49m\u001b[43m \u001b[49m\u001b[43menforce_dpp\u001b[49m\u001b[43m,\u001b[49m\u001b[43m \u001b[49m\u001b[43mignore_dpp\u001b[49m\u001b[43m,\u001b[49m\u001b[43m \u001b[49m\u001b[43mverbose\u001b[49m\u001b[43m,\u001b[49m\u001b[43m \u001b[49m\u001b[43mcanon_backend\u001b[49m\u001b[43m,\u001b[49m\u001b[43m \u001b[49m\u001b[43mkwargs\u001b[49m\n\u001b[0;32m   1172\u001b[0m \u001b[43m\u001b[49m\u001b[43m)\u001b[49m\n\u001b[0;32m   1174\u001b[0m \u001b[38;5;28;01mif\u001b[39;00m verbose:\n\u001b[0;32m   1175\u001b[0m     \u001b[38;5;28mprint\u001b[39m(_NUM_SOLVER_STR)\n",
      "File \u001b[1;32mc:\\Users\\user\\AppData\\Local\\Programs\\Python\\Python310\\lib\\site-packages\\cvxpy\\problems\\problem.py:743\u001b[0m, in \u001b[0;36mProblem.get_problem_data\u001b[1;34m(self, solver, gp, enforce_dpp, ignore_dpp, verbose, canon_backend, solver_opts)\u001b[0m\n\u001b[0;32m    741\u001b[0m \u001b[38;5;28;01mif\u001b[39;00m key \u001b[38;5;241m!=\u001b[39m \u001b[38;5;28mself\u001b[39m\u001b[38;5;241m.\u001b[39m_cache\u001b[38;5;241m.\u001b[39mkey:\n\u001b[0;32m    742\u001b[0m     \u001b[38;5;28mself\u001b[39m\u001b[38;5;241m.\u001b[39m_cache\u001b[38;5;241m.\u001b[39minvalidate()\n\u001b[1;32m--> 743\u001b[0m     solving_chain \u001b[38;5;241m=\u001b[39m \u001b[38;5;28;43mself\u001b[39;49m\u001b[38;5;241;43m.\u001b[39;49m\u001b[43m_construct_chain\u001b[49m\u001b[43m(\u001b[49m\n\u001b[0;32m    744\u001b[0m \u001b[43m        \u001b[49m\u001b[43msolver\u001b[49m\u001b[38;5;241;43m=\u001b[39;49m\u001b[43msolver\u001b[49m\u001b[43m,\u001b[49m\u001b[43m \u001b[49m\u001b[43mgp\u001b[49m\u001b[38;5;241;43m=\u001b[39;49m\u001b[43mgp\u001b[49m\u001b[43m,\u001b[49m\n\u001b[0;32m    745\u001b[0m \u001b[43m        \u001b[49m\u001b[43menforce_dpp\u001b[49m\u001b[38;5;241;43m=\u001b[39;49m\u001b[43menforce_dpp\u001b[49m\u001b[43m,\u001b[49m\n\u001b[0;32m    746\u001b[0m \u001b[43m        \u001b[49m\u001b[43mignore_dpp\u001b[49m\u001b[38;5;241;43m=\u001b[39;49m\u001b[43mignore_dpp\u001b[49m\u001b[43m,\u001b[49m\n\u001b[0;32m    747\u001b[0m \u001b[43m        \u001b[49m\u001b[43mcanon_backend\u001b[49m\u001b[38;5;241;43m=\u001b[39;49m\u001b[43mcanon_backend\u001b[49m\u001b[43m,\u001b[49m\n\u001b[0;32m    748\u001b[0m \u001b[43m        \u001b[49m\u001b[43msolver_opts\u001b[49m\u001b[38;5;241;43m=\u001b[39;49m\u001b[43msolver_opts\u001b[49m\u001b[43m)\u001b[49m\n\u001b[0;32m    749\u001b[0m     \u001b[38;5;28mself\u001b[39m\u001b[38;5;241m.\u001b[39m_cache\u001b[38;5;241m.\u001b[39mkey \u001b[38;5;241m=\u001b[39m key\n\u001b[0;32m    750\u001b[0m     \u001b[38;5;28mself\u001b[39m\u001b[38;5;241m.\u001b[39m_cache\u001b[38;5;241m.\u001b[39msolving_chain \u001b[38;5;241m=\u001b[39m solving_chain\n",
      "File \u001b[1;32mc:\\Users\\user\\AppData\\Local\\Programs\\Python\\Python310\\lib\\site-packages\\cvxpy\\problems\\problem.py:994\u001b[0m, in \u001b[0;36mProblem._construct_chain\u001b[1;34m(self, solver, gp, enforce_dpp, ignore_dpp, canon_backend, solver_opts)\u001b[0m\n\u001b[0;32m    992\u001b[0m candidate_solvers \u001b[38;5;241m=\u001b[39m \u001b[38;5;28mself\u001b[39m\u001b[38;5;241m.\u001b[39m_find_candidate_solvers(solver\u001b[38;5;241m=\u001b[39msolver, gp\u001b[38;5;241m=\u001b[39mgp)\n\u001b[0;32m    993\u001b[0m \u001b[38;5;28mself\u001b[39m\u001b[38;5;241m.\u001b[39m_sort_candidate_solvers(candidate_solvers)\n\u001b[1;32m--> 994\u001b[0m \u001b[38;5;28;01mreturn\u001b[39;00m \u001b[43mconstruct_solving_chain\u001b[49m\u001b[43m(\u001b[49m\u001b[38;5;28;43mself\u001b[39;49m\u001b[43m,\u001b[49m\u001b[43m \u001b[49m\u001b[43mcandidate_solvers\u001b[49m\u001b[43m,\u001b[49m\u001b[43m \u001b[49m\u001b[43mgp\u001b[49m\u001b[38;5;241;43m=\u001b[39;49m\u001b[43mgp\u001b[49m\u001b[43m,\u001b[49m\n\u001b[0;32m    995\u001b[0m \u001b[43m                               \u001b[49m\u001b[43menforce_dpp\u001b[49m\u001b[38;5;241;43m=\u001b[39;49m\u001b[43menforce_dpp\u001b[49m\u001b[43m,\u001b[49m\n\u001b[0;32m    996\u001b[0m \u001b[43m                               \u001b[49m\u001b[43mignore_dpp\u001b[49m\u001b[38;5;241;43m=\u001b[39;49m\u001b[43mignore_dpp\u001b[49m\u001b[43m,\u001b[49m\n\u001b[0;32m    997\u001b[0m \u001b[43m                               \u001b[49m\u001b[43mcanon_backend\u001b[49m\u001b[38;5;241;43m=\u001b[39;49m\u001b[43mcanon_backend\u001b[49m\u001b[43m,\u001b[49m\n\u001b[0;32m    998\u001b[0m \u001b[43m                               \u001b[49m\u001b[43msolver_opts\u001b[49m\u001b[38;5;241;43m=\u001b[39;49m\u001b[43msolver_opts\u001b[49m\u001b[43m,\u001b[49m\n\u001b[0;32m    999\u001b[0m \u001b[43m                               \u001b[49m\u001b[43mspecified_solver\u001b[49m\u001b[38;5;241;43m=\u001b[39;49m\u001b[43msolver\u001b[49m\u001b[43m)\u001b[49m\n",
      "File \u001b[1;32mc:\\Users\\user\\AppData\\Local\\Programs\\Python\\Python310\\lib\\site-packages\\cvxpy\\reductions\\solvers\\solving_chain.py:236\u001b[0m, in \u001b[0;36mconstruct_solving_chain\u001b[1;34m(problem, candidates, gp, enforce_dpp, ignore_dpp, canon_backend, solver_opts, specified_solver)\u001b[0m\n\u001b[0;32m    234\u001b[0m \u001b[38;5;28;01mif\u001b[39;00m \u001b[38;5;28mlen\u001b[39m(problem\u001b[38;5;241m.\u001b[39mvariables()) \u001b[38;5;241m==\u001b[39m \u001b[38;5;241m0\u001b[39m:\n\u001b[0;32m    235\u001b[0m     \u001b[38;5;28;01mreturn\u001b[39;00m SolvingChain(reductions\u001b[38;5;241m=\u001b[39m[ConstantSolver()])\n\u001b[1;32m--> 236\u001b[0m reductions \u001b[38;5;241m=\u001b[39m \u001b[43m_reductions_for_problem_class\u001b[49m\u001b[43m(\u001b[49m\u001b[43mproblem\u001b[49m\u001b[43m,\u001b[49m\u001b[43m \u001b[49m\u001b[43mcandidates\u001b[49m\u001b[43m,\u001b[49m\u001b[43m \u001b[49m\u001b[43mgp\u001b[49m\u001b[43m,\u001b[49m\u001b[43m \u001b[49m\u001b[43msolver_opts\u001b[49m\u001b[43m)\u001b[49m\n\u001b[0;32m    238\u001b[0m \u001b[38;5;66;03m# Process DPP status of the problem.\u001b[39;00m\n\u001b[0;32m    239\u001b[0m dpp_context \u001b[38;5;241m=\u001b[39m \u001b[38;5;124m'\u001b[39m\u001b[38;5;124mdcp\u001b[39m\u001b[38;5;124m'\u001b[39m \u001b[38;5;28;01mif\u001b[39;00m \u001b[38;5;129;01mnot\u001b[39;00m gp \u001b[38;5;28;01melse\u001b[39;00m \u001b[38;5;124m'\u001b[39m\u001b[38;5;124mdgp\u001b[39m\u001b[38;5;124m'\u001b[39m\n",
      "File \u001b[1;32mc:\\Users\\user\\AppData\\Local\\Programs\\Python\\Python310\\lib\\site-packages\\cvxpy\\reductions\\solvers\\solving_chain.py:150\u001b[0m, in \u001b[0;36m_reductions_for_problem_class\u001b[1;34m(problem, candidates, gp, solver_opts)\u001b[0m\n\u001b[0;32m    147\u001b[0m     \u001b[38;5;28;01melif\u001b[39;00m problem\u001b[38;5;241m.\u001b[39mis_dqcp():\n\u001b[0;32m    148\u001b[0m         append \u001b[38;5;241m+\u001b[39m\u001b[38;5;241m=\u001b[39m (\u001b[38;5;124m\"\u001b[39m\u001b[38;5;130;01m\\n\u001b[39;00m\u001b[38;5;124mHowever, the problem does follow DQCP rules. \u001b[39m\u001b[38;5;124m\"\u001b[39m\n\u001b[0;32m    149\u001b[0m                    \u001b[38;5;124m\"\u001b[39m\u001b[38;5;124mConsider calling solve() with `qcp=True`.\u001b[39m\u001b[38;5;124m\"\u001b[39m)\n\u001b[1;32m--> 150\u001b[0m     \u001b[38;5;28;01mraise\u001b[39;00m DCPError(\n\u001b[0;32m    151\u001b[0m         \u001b[38;5;124m\"\u001b[39m\u001b[38;5;124mProblem does not follow DCP rules. Specifically:\u001b[39m\u001b[38;5;130;01m\\n\u001b[39;00m\u001b[38;5;124m\"\u001b[39m \u001b[38;5;241m+\u001b[39m append)\n\u001b[0;32m    152\u001b[0m \u001b[38;5;28;01melif\u001b[39;00m gp \u001b[38;5;129;01mand\u001b[39;00m \u001b[38;5;129;01mnot\u001b[39;00m problem\u001b[38;5;241m.\u001b[39mis_dgp():\n\u001b[0;32m    153\u001b[0m     append \u001b[38;5;241m=\u001b[39m build_non_disciplined_error_msg(problem, \u001b[38;5;124m'\u001b[39m\u001b[38;5;124mDGP\u001b[39m\u001b[38;5;124m'\u001b[39m)\n",
      "\u001b[1;31mDCPError\u001b[0m: Problem does not follow DCP rules. Specifically:\nThe objective is not DCP, even though each sub-expression is.\nYou are trying to maximize a function that is convex."
     ]
    }
   ],
   "source": [
    "# We can only maximize a concave function, or minimize a convex function, but not vice versa!\n",
    "\n",
    "prob = cvxpy.Problem(cvxpy.Maximize(x**2), constraints)\n",
    "prob.solve()  # Returns the optimal value.\n",
    "print(\"status:\", prob.status)\n",
    "print(\"optimal value\", prob.value)"
   ]
  },
  {
   "cell_type": "code",
   "execution_count": 12,
   "metadata": {},
   "outputs": [],
   "source": [
    "# A scalar variable.\n",
    "a = cvxpy.Variable()\n",
    "\n",
    "# Vector variable with shape (5,).\n",
    "x = cvxpy.Variable(5)\n",
    "\n",
    "# Matrix variable with shape (4, 7).\n",
    "A = cvxpy.Variable((4, 7))"
   ]
  },
  {
   "cell_type": "code",
   "execution_count": 26,
   "metadata": {},
   "outputs": [
    {
     "name": "stdout",
     "output_type": "stream",
     "text": [
      "\n",
      "PROBLEM: \n",
      "Three cakes have to be divided among 2 people with values:\n",
      "2 3 4\n",
      "8 7 6\n",
      "\n",
      "Maximize the sum of logs:\n",
      "status: optimal\n",
      "optimal value 4.150102080593772\n",
      "optimal product 63.44047600905568\n",
      "optimal x 0.0\n",
      "optimal y 0.40476\n",
      "optimal z 1.0\n"
     ]
    }
   ],
   "source": [
    "import math \n",
    "from cvxpy import log\n",
    "\n",
    "\n",
    "print(\"\\nPROBLEM: \")\n",
    "print(\"Three cakes have to be divided among 2 people with values:\")\n",
    "print(\"2 3 4\")\n",
    "print(\"8 7 6\")\n",
    "\n",
    "# Define x,y,z = the fraction of each region given to player 1.\n",
    "x = cvxpy.Variable()\n",
    "y = cvxpy.Variable()\n",
    "z = cvxpy.Variable()\n",
    "\n",
    "print(\"\\nMaximize the sum of logs:\")\n",
    "prob = cvxpy.Problem(\n",
    "    objective   =  cvxpy.Maximize(log(2*x + 3*y + 4*z) + log(8*(1-x)+7*(1-y)+6*(1-z))),\n",
    "    constraints = [0 <= x, x <= 1, 0<= y , y <= 1, 0 <= z, z <= 1])\n",
    "prob.solve()\n",
    "print(\"status:\", prob.status)\n",
    "print(\"optimal value\", prob.value)\n",
    "print(\"optimal product\", math.exp(prob.value))\n",
    "print(\"optimal x\", round(float(x.value),5))\n",
    "print(\"optimal y\", round(float(y.value),5))\n",
    "print(\"optimal z\", round(float(z.value),5))"
   ]
  }
 ],
 "metadata": {
  "kernelspec": {
   "display_name": "Python 3",
   "language": "python",
   "name": "python3"
  },
  "language_info": {
   "codemirror_mode": {
    "name": "ipython",
    "version": 3
   },
   "file_extension": ".py",
   "mimetype": "text/x-python",
   "name": "python",
   "nbconvert_exporter": "python",
   "pygments_lexer": "ipython3",
   "version": "3.10.2"
  }
 },
 "nbformat": 4,
 "nbformat_minor": 4
}
