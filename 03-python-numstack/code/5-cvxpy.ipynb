{
 "cells": [
  {
   "cell_type": "code",
   "execution_count": 107,
   "metadata": {},
   "outputs": [],
   "source": [
    "import numpy as np, matplotlib.pyplot as plt\n",
    "import cvxpy\n",
    "\n",
    "# import cvxopt  # for GLPK_MI solver. pip install cvxopt\n",
    "# import scip    # for SCIP solver.    pip install pyscipopt"
   ]
  },
  {
   "cell_type": "markdown",
   "metadata": {},
   "source": [
    "## Solving linear equations"
   ]
  },
  {
   "cell_type": "code",
   "execution_count": 108,
   "metadata": {},
   "outputs": [
    {
     "name": "stdout",
     "output_type": "stream",
     "text": [
      "children = 1500.0, adults = 700.0000000000001\n",
      "Integer: children = 1500, adults = 700\n"
     ]
    }
   ],
   "source": [
    "# A child buys ticket for 1.5 shekels. \n",
    "# An adult buys ticket for 4 shekels. \n",
    "# The total number of people is 2200.\n",
    "# The total amount collected is 5050 shekels.\n",
    "# How many children and how many adults bought tickets?\n",
    "children = cvxpy.Variable()\n",
    "adults   = cvxpy.Variable()\n",
    "constraints = [\n",
    "    1*children + 1*adults   == 2200,\n",
    "    1.5*children + 4*adults == 5050\n",
    "]\n",
    "prob = cvxpy.Problem(cvxpy.Minimize(0), constraints)\n",
    "prob.solve() \n",
    "print(f'children = {children.value}, adults = {adults.value}')\n",
    "print(f'Integer: children = {int(np.round(children.value))}, adults = {int(np.round(adults.value))}')"
   ]
  },
  {
   "cell_type": "markdown",
   "metadata": {},
   "source": [
    "## Solving optimization problems with constraints"
   ]
  },
  {
   "cell_type": "code",
   "execution_count": 44,
   "metadata": {},
   "outputs": [
    {
     "name": "stdout",
     "output_type": "stream",
     "text": [
      "status: optimal\n",
      "optimal value 0.0\n",
      "optimal var: x = 2.5 , y = 2.5\n"
     ]
    }
   ],
   "source": [
    "# Create two scalar optimization variables.\n",
    "x = cvxpy.Variable()\n",
    "y = cvxpy.Variable()\n",
    "\n",
    "# Form objective.\n",
    "objective = cvxpy.Minimize((x - y)**2)\n",
    "\n",
    "# Create constraints.\n",
    "constraints = [x + y == 5,\n",
    "               1 <= x, x <= 3, \n",
    "               y >= 1, 3 >= y,\n",
    "               x >= y] \n",
    "# Note: constraints can only use ==, >=, <=.  The other operators are not allowed.\n",
    "\n",
    "# Form and solve problem.\n",
    "prob = cvxpy.Problem(objective, constraints)\n",
    "prob.solve()  # Returns the optimal value.\n",
    "print(\"status:\", prob.status)\n",
    "print(\"optimal value\", prob.value)\n",
    "print(f\"optimal var: x = {x.value} , y = {y.value}\")"
   ]
  },
  {
   "cell_type": "code",
   "execution_count": 54,
   "metadata": {},
   "outputs": [
    {
     "name": "stdout",
     "output_type": "stream",
     "text": [
      "status: optimal\n",
      "optimal value 2.5898990106089147e-10\n",
      "Rounded optimal value 0.0\n",
      "optimal variables: x = 2.5020058142472323 , y = 2.4979941857527677\n",
      "Rounded optimal variables: x = 2.5 , y = 2.5\n"
     ]
    }
   ],
   "source": [
    "# Rounding:\n",
    "\n",
    "# Form objective.\n",
    "objective = cvxpy.Minimize((x - y)**4)\n",
    "\n",
    "# Create constraints.\n",
    "constraints = [x + y == 5,\n",
    "               1 <= x, x <= 3, \n",
    "               y >= 1, 3 >= y,\n",
    "               x >= y] \n",
    "# Note: constraints can only use ==, >=, <=.  The other operators are not allowed.\n",
    "\n",
    "# Form and solve problem.\n",
    "prob = cvxpy.Problem(objective, constraints)\n",
    "prob.solve()  # Returns the optimal value.\n",
    "print(\"status:\", prob.status)\n",
    "print(\"optimal value\", prob.value)\n",
    "print(\"Rounded optimal value\", np.round(prob.value,1))\n",
    "print(f\"optimal variables: x = {x.value} , y = {y.value}\")\n",
    "print(f\"Rounded optimal variables: x = {np.round(x.value,2)} , y = {np.round(y.value,2)}\")"
   ]
  },
  {
   "cell_type": "markdown",
   "metadata": {},
   "source": [
    "## Infeasible problem"
   ]
  },
  {
   "cell_type": "code",
   "execution_count": 55,
   "metadata": {},
   "outputs": [
    {
     "name": "stdout",
     "output_type": "stream",
     "text": [
      "status: infeasible\n",
      "optimal value inf\n"
     ]
    }
   ],
   "source": [
    "x = cvxpy.Variable()\n",
    "y = cvxpy.Variable()\n",
    "\n",
    "# An infeasible problem.\n",
    "constraints = [x + y == 4,\n",
    "               1 <= x, x <= 3, \n",
    "               y >= 5, 7 >= y] \n",
    "prob = cvxpy.Problem(cvxpy.Minimize(x), constraints)\n",
    "prob.solve()\n",
    "print(\"status:\", prob.status)\n",
    "print(\"optimal value\", prob.value)  # value is irrelevant for infeasible programs\n"
   ]
  },
  {
   "cell_type": "markdown",
   "metadata": {},
   "source": [
    "## Unbounded problem"
   ]
  },
  {
   "cell_type": "code",
   "execution_count": 56,
   "metadata": {},
   "outputs": [
    {
     "name": "stdout",
     "output_type": "stream",
     "text": [
      "status: unbounded\n",
      "optimal value -inf\n"
     ]
    }
   ],
   "source": [
    "\n",
    "prob = cvxpy.Problem(cvxpy.Minimize(x), constraints=[x <= 1])\n",
    "prob.solve()\n",
    "print(\"status:\", prob.status)\n",
    "print(\"optimal value\", prob.value)"
   ]
  },
  {
   "cell_type": "markdown",
   "metadata": {},
   "source": [
    "## Integer programs"
   ]
  },
  {
   "cell_type": "code",
   "execution_count": 57,
   "metadata": {},
   "outputs": [
    {
     "name": "stdout",
     "output_type": "stream",
     "text": [
      "status: optimal\n",
      "optimal value 1.0\n",
      "optimal var: x = 3.0 , y = 2.0 \n"
     ]
    }
   ],
   "source": [
    "# Create two scalar optimization variables.\n",
    "x = cvxpy.Variable(integer=True)\n",
    "y = cvxpy.Variable(integer=True)\n",
    "\n",
    "# Form objective.\n",
    "objective = cvxpy.Minimize((x - y)**2)\n",
    "# objective = cvxpy.Minimize((x - y))\n",
    "\n",
    "# Create constraints.\n",
    "constraints = [x + y == 5,\n",
    "               1 <= x, x <= 3, \n",
    "               y >= 1, 3 >= y,\n",
    "               x >= y]\n",
    "# Note: constraints can only use ==, >=, <=.  The other operators are not allowed.\n",
    "\n",
    "# Form and solve problem.\n",
    "prob_1 = cvxpy.Problem(objective, constraints)\n",
    "prob_1.solve()\n",
    "print(\"status:\", prob_1.status)\n",
    "print(\"optimal value\", prob_1.value)\n",
    "print(f\"optimal var: x = {x.value} , y = {y.value} \")"
   ]
  },
  {
   "cell_type": "markdown",
   "metadata": {},
   "source": [
    "## Different solvers\n",
    "\n",
    "cvxpy supports [many different solvers](https://www.cvxpy.org/tutorial/solvers/index.html)."
   ]
  },
  {
   "cell_type": "code",
   "execution_count": 66,
   "metadata": {},
   "outputs": [
    {
     "name": "stdout",
     "output_type": "stream",
     "text": [
      "===============================================================================\n",
      "                                     CVXPY                                     \n",
      "                                     v1.6.4                                    \n",
      "===============================================================================\n",
      "(CVXPY) Mar 26 09:14:30 PM: Your problem has 2 variables, 6 constraints, and 0 parameters.\n",
      "(CVXPY) Mar 26 09:14:30 PM: It is compliant with the following grammars: DCP, DQCP\n",
      "(CVXPY) Mar 26 09:14:30 PM: (If you need to solve this problem multiple times, but with different data, consider using parameters.)\n",
      "(CVXPY) Mar 26 09:14:30 PM: CVXPY will first compile your problem; then, it will invoke a numerical solver to obtain a solution.\n",
      "(CVXPY) Mar 26 09:14:30 PM: Your problem is compiled with the CPP canonicalization backend.\n",
      "-------------------------------------------------------------------------------\n",
      "                                  Compilation                                  \n",
      "-------------------------------------------------------------------------------\n",
      "(CVXPY) Mar 26 09:14:30 PM: Compiling problem (target solver=OSQP).\n",
      "(CVXPY) Mar 26 09:14:30 PM: Reduction chain: CvxAttr2Constr -> Qp2SymbolicQp -> QpMatrixStuffing -> OSQP\n",
      "(CVXPY) Mar 26 09:14:30 PM: Applying reduction CvxAttr2Constr\n",
      "(CVXPY) Mar 26 09:14:30 PM: Applying reduction Qp2SymbolicQp\n",
      "(CVXPY) Mar 26 09:14:30 PM: Applying reduction QpMatrixStuffing\n",
      "(CVXPY) Mar 26 09:14:30 PM: Applying reduction OSQP\n",
      "(CVXPY) Mar 26 09:14:30 PM: Finished problem compilation (took 1.186e-02 seconds).\n",
      "-------------------------------------------------------------------------------\n",
      "                                Numerical solver                               \n",
      "-------------------------------------------------------------------------------\n",
      "(CVXPY) Mar 26 09:14:30 PM: Invoking solver OSQP  to obtain a solution.\n",
      "-----------------------------------------------------------------\n",
      "           OSQP v0.6.2  -  Operator Splitting QP Solver\n",
      "              (c) Bartolomeo Stellato,  Goran Banjac\n",
      "        University of Oxford  -  Stanford University 2021\n",
      "-----------------------------------------------------------------\n",
      "problem:  variables n = 3, constraints m = 7\n",
      "          nnz(P) + nnz(A) = 12\n",
      "settings: linear system solver = qdldl,\n",
      "          eps_abs = 1.0e-05, eps_rel = 1.0e-05,\n",
      "          eps_prim_inf = 1.0e-04, eps_dual_inf = 1.0e-04,\n",
      "          rho = 1.00e-01 (adaptive),\n",
      "          sigma = 1.00e-06, alpha = 1.60, max_iter = 10000\n",
      "          check_termination: on (interval 25),\n",
      "          scaling: on, scaled_termination: off\n",
      "          warm start: on, polish: on, time_limit: off\n",
      "\n",
      "iter   objective    pri res    dua res    rho        time\n",
      "   1   0.0000e+00   5.00e+00   5.00e+02   1.00e-01   1.46e-04s\n",
      "  50   4.2562e-32   8.25e-09   1.33e-10   1.46e-03   2.54e-03s\n",
      "plsh   1.8613e-33   0.00e+00   0.00e+00   --------   3.32e-03s\n",
      "\n",
      "status:               solved\n",
      "solution polish:      successful\n",
      "number of iterations: 50\n",
      "optimal objective:    0.0000\n",
      "run time:             3.32e-03s\n",
      "optimal rho estimate: 1.00e-06\n",
      "\n",
      "-------------------------------------------------------------------------------\n",
      "                                    Summary                                    \n",
      "-------------------------------------------------------------------------------\n",
      "(CVXPY) Mar 26 09:14:30 PM: Problem status: optimal\n",
      "(CVXPY) Mar 26 09:14:30 PM: Optimal value: 0.000e+00\n",
      "(CVXPY) Mar 26 09:14:30 PM: Compilation took 1.186e-02 seconds\n",
      "(CVXPY) Mar 26 09:14:30 PM: Solver (including time spent in interface) took 6.997e-03 seconds\n",
      "status: optimal\n",
      "optimal value 0.0\n",
      "optimal var: x = 2.5 , y = 2.5\n"
     ]
    }
   ],
   "source": [
    "x = cvxpy.Variable()\n",
    "y = cvxpy.Variable()\n",
    "constraints = [x + y == 5,\n",
    "               1 <= x, x <= 3, \n",
    "               y >= 1, 3 >= y,\n",
    "               x >= y]\n",
    "prob = cvxpy.Problem(cvxpy.Minimize((x - y)**2), constraints)\n",
    "prob.solve(verbose=True)  \n",
    "print(\"status:\", prob.status)\n",
    "print(\"optimal value\", prob.value)\n",
    "print(f\"optimal var: x = {x.value} , y = {y.value}\")"
   ]
  },
  {
   "cell_type": "code",
   "execution_count": 68,
   "metadata": {},
   "outputs": [
    {
     "name": "stdout",
     "output_type": "stream",
     "text": [
      "===============================================================================\n",
      "                                     CVXPY                                     \n",
      "                                     v1.6.4                                    \n",
      "===============================================================================\n",
      "(CVXPY) Mar 26 09:15:41 PM: Your problem has 2 variables, 6 constraints, and 0 parameters.\n",
      "(CVXPY) Mar 26 09:15:41 PM: It is compliant with the following grammars: DCP, DQCP\n",
      "(CVXPY) Mar 26 09:15:41 PM: (If you need to solve this problem multiple times, but with different data, consider using parameters.)\n",
      "(CVXPY) Mar 26 09:15:41 PM: CVXPY will first compile your problem; then, it will invoke a numerical solver to obtain a solution.\n",
      "(CVXPY) Mar 26 09:15:41 PM: Your problem is compiled with the CPP canonicalization backend.\n",
      "-------------------------------------------------------------------------------\n",
      "                                  Compilation                                  \n",
      "-------------------------------------------------------------------------------\n",
      "(CVXPY) Mar 26 09:15:41 PM: Using cached ASA map, for faster compilation (bypassing reduction chain).\n",
      "(CVXPY) Mar 26 09:15:41 PM: Finished problem compilation (took 2.779e-03 seconds).\n",
      "-------------------------------------------------------------------------------\n",
      "                                Numerical solver                               \n",
      "-------------------------------------------------------------------------------\n",
      "(CVXPY) Mar 26 09:15:41 PM: Invoking solver CLARABEL  to obtain a solution.\n",
      "-------------------------------------------------------------\n",
      "           Clarabel.rs v0.7.1  -  Clever Acronym              \n",
      "\n",
      "                   (c) Paul Goulart                          \n",
      "                University of Oxford, 2022                   \n",
      "-------------------------------------------------------------\n",
      "\n",
      "problem:\n",
      "  variables     = 3\n",
      "  constraints   = 7\n",
      "  nnz(P)        = 1\n",
      "  nnz(A)        = 11\n",
      "  cones (total) = 2\n",
      "    :        Zero = 1,  numel = 2\n",
      "    : Nonnegative = 1,  numel = 5\n",
      "\n",
      "settings:\n",
      "  linear algebra: direct / qdldl, precision: 64 bit\n",
      "  max iter = 200, time limit = Inf,  max step = 0.990\n",
      "  tol_feas = 1.0e-8, tol_gap_abs = 1.0e-8, tol_gap_rel = 1.0e-8,\n",
      "  static reg : on, ϵ1 = 1.0e-8, ϵ2 = 4.9e-32\n",
      "  dynamic reg: on, ϵ = 1.0e-13, δ = 2.0e-7\n",
      "  iter refine: on, reltol = 1.0e-13, abstol = 1.0e-12,\n",
      "               max iter = 10, stop ratio = 5.0\n",
      "  equilibrate: on, min_scale = 1.0e-5, max_scale = 1.0e5\n",
      "               max iter = 10\n",
      "\n",
      "iter    pcost        dcost       gap       pres      dres      k/t        μ       step      \n",
      "---------------------------------------------------------------------------------------------\n",
      "  0  +0.0000e+00  -5.0000e+00  5.00e+00  1.75e-01  4.60e-01  1.00e+00  2.42e+00   ------   \n",
      "  1  +3.8475e-02  -4.3139e-01  4.70e-01  1.56e-02  5.90e-02  6.60e-02  3.69e-01  9.33e-01  \n",
      "  2  +1.0898e-02  -2.2751e-02  3.36e-02  6.31e-04  2.80e-03  4.52e-03  2.95e-02  9.57e-01  \n",
      "  3  +2.1571e-03  -4.2204e-03  6.38e-03  7.41e-06  3.44e-05  7.86e-04  4.11e-03  9.90e-01  \n",
      "  4  +4.3211e-04  -8.2073e-04  1.25e-03  8.73e-08  4.14e-07  1.48e-04  5.81e-04  9.90e-01  \n",
      "  5  +8.7409e-05  -1.6224e-04  2.50e-04  1.03e-09  4.93e-09  2.85e-05  8.27e-05  9.90e-01  \n",
      "  6  +1.7810e-05  -3.2495e-05  5.03e-05  1.22e-11  5.86e-11  5.60e-06  1.18e-05  9.90e-01  \n",
      "  7  +3.6482e-06  -6.5729e-06  1.02e-05  1.45e-13  6.98e-13  1.12e-06  1.70e-06  9.90e-01  \n",
      "  8  +7.5019e-07  -1.3392e-06  2.09e-06  1.77e-15  8.31e-15  2.25e-07  2.46e-07  9.90e-01  \n",
      "  9  +1.5470e-07  -2.7430e-07  4.29e-07  6.15e-17  9.90e-17  4.57e-08  3.55e-08  9.90e-01  \n",
      " 10  +3.1969e-08  -5.6401e-08  8.84e-08  1.07e-16  1.19e-18  9.33e-09  5.14e-09  9.90e-01  \n",
      " 11  +6.6164e-09  -1.1630e-08  1.82e-08  1.55e-17  4.07e-20  1.91e-09  7.45e-10  9.90e-01  \n",
      " 12  +1.3709e-09  -2.4033e-09  3.77e-09  1.58e-13  3.61e-13  3.94e-10  1.08e-10  9.90e-01  \n",
      "---------------------------------------------------------------------------------------------\n",
      "Terminated with status = Solved\n",
      "solve time = 149.8µs\n",
      "-------------------------------------------------------------------------------\n",
      "                                    Summary                                    \n",
      "-------------------------------------------------------------------------------\n",
      "(CVXPY) Mar 26 09:15:41 PM: Problem status: optimal\n",
      "(CVXPY) Mar 26 09:15:41 PM: Optimal value: 1.371e-09\n",
      "(CVXPY) Mar 26 09:15:41 PM: Compilation took 2.779e-03 seconds\n",
      "(CVXPY) Mar 26 09:15:41 PM: Solver (including time spent in interface) took 4.852e-03 seconds\n",
      "status: optimal\n",
      "optimal value 1.3709371128219122e-09\n",
      "optimal var: x = 2.500018513083974 , y = 2.499981486916027\n"
     ]
    }
   ],
   "source": [
    "# Try a different solver:\n",
    "prob.solve(solver=cvxpy.CLARABEL, verbose=True)  \n",
    "print(\"status:\", prob.status)\n",
    "print(\"optimal value\", prob.value)\n",
    "print(f\"optimal var: x = {x.value} , y = {y.value}\")"
   ]
  },
  {
   "cell_type": "code",
   "execution_count": 69,
   "metadata": {},
   "outputs": [
    {
     "name": "stdout",
     "output_type": "stream",
     "text": [
      "===============================================================================\n",
      "                                     CVXPY                                     \n",
      "                                     v1.6.4                                    \n",
      "===============================================================================\n",
      "(CVXPY) Mar 26 09:15:59 PM: Your problem has 2 variables, 6 constraints, and 0 parameters.\n",
      "(CVXPY) Mar 26 09:15:59 PM: It is compliant with the following grammars: DCP, DQCP\n",
      "(CVXPY) Mar 26 09:15:59 PM: (If you need to solve this problem multiple times, but with different data, consider using parameters.)\n",
      "(CVXPY) Mar 26 09:15:59 PM: CVXPY will first compile your problem; then, it will invoke a numerical solver to obtain a solution.\n",
      "(CVXPY) Mar 26 09:15:59 PM: Your problem is compiled with the CPP canonicalization backend.\n",
      "-------------------------------------------------------------------------------\n",
      "                                  Compilation                                  \n",
      "-------------------------------------------------------------------------------\n",
      "(CVXPY) Mar 26 09:15:59 PM: Compiling problem (target solver=CLARABEL).\n",
      "(CVXPY) Mar 26 09:15:59 PM: Reduction chain: Dcp2Cone -> CvxAttr2Constr -> ConeMatrixStuffing -> CLARABEL\n",
      "(CVXPY) Mar 26 09:15:59 PM: Applying reduction Dcp2Cone\n",
      "(CVXPY) Mar 26 09:15:59 PM: Applying reduction CvxAttr2Constr\n",
      "(CVXPY) Mar 26 09:15:59 PM: Applying reduction ConeMatrixStuffing\n",
      "(CVXPY) Mar 26 09:15:59 PM: Applying reduction CLARABEL\n",
      "(CVXPY) Mar 26 09:15:59 PM: Finished problem compilation (took 1.682e-02 seconds).\n",
      "-------------------------------------------------------------------------------\n",
      "                                Numerical solver                               \n",
      "-------------------------------------------------------------------------------\n",
      "(CVXPY) Mar 26 09:15:59 PM: Invoking solver CLARABEL  to obtain a solution.\n",
      "-------------------------------------------------------------\n",
      "           Clarabel.rs v0.7.1  -  Clever Acronym              \n",
      "\n",
      "                   (c) Paul Goulart                          \n",
      "                University of Oxford, 2022                   \n",
      "-------------------------------------------------------------\n",
      "\n",
      "problem:\n",
      "  variables     = 4\n",
      "  constraints   = 12\n",
      "  nnz(P)        = 0\n",
      "  nnz(A)        = 15\n",
      "  cones (total) = 4\n",
      "    :        Zero = 1,  numel = 1\n",
      "    : Nonnegative = 1,  numel = 5\n",
      "    : SecondOrder = 2,  numel = (3,3)\n",
      "\n",
      "settings:\n",
      "  linear algebra: direct / qdldl, precision: 64 bit\n",
      "  max iter = 200, time limit = Inf,  max step = 0.990\n",
      "  tol_feas = 1.0e-8, tol_gap_abs = 1.0e-8, tol_gap_rel = 1.0e-8,\n",
      "  static reg : on, ϵ1 = 1.0e-8, ϵ2 = 4.9e-32\n",
      "  dynamic reg: on, ϵ = 1.0e-13, δ = 2.0e-7\n",
      "  iter refine: on, reltol = 1.0e-13, abstol = 1.0e-12,\n",
      "               max iter = 10, stop ratio = 5.0\n",
      "  equilibrate: on, min_scale = 1.0e-5, max_scale = 1.0e5\n",
      "               max iter = 10\n",
      "\n",
      "iter    pcost        dcost       gap       pres      dres      k/t        μ       step      \n",
      "---------------------------------------------------------------------------------------------\n",
      "  0  +2.2204e-16  -7.7333e+00  7.73e+00  1.25e-01  2.34e-01  1.00e+00  2.04e+00   ------   \n",
      "  1  +3.2101e-02  -5.7522e-01  6.07e-01  1.08e-02  2.13e-02  7.47e-02  2.39e-01  9.17e-01  \n",
      "  2  +3.3831e-04  -4.8804e-02  4.91e-02  8.82e-04  1.75e-03  5.99e-03  2.15e-02  9.11e-01  \n",
      "  3  +1.3167e-03  -1.0482e-02  1.18e-02  2.15e-04  4.28e-04  1.64e-03  5.35e-03  8.63e-01  \n",
      "  4  -1.2927e-04  -2.7357e-03  2.61e-03  4.79e-05  9.53e-05  3.84e-04  1.21e-03  8.83e-01  \n",
      "  5  +6.0239e-05  -2.3498e-04  2.95e-04  5.47e-06  1.09e-05  4.58e-05  1.38e-04  9.90e-01  \n",
      "  6  +9.0574e-06  -3.3163e-05  4.22e-05  7.81e-07  1.55e-06  6.48e-06  1.98e-05  8.69e-01  \n",
      "  7  -3.4883e-07  -1.0854e-05  1.05e-05  1.94e-07  3.86e-07  1.61e-06  4.94e-06  8.84e-01  \n",
      "  8  +3.0400e-07  -1.3274e-06  1.63e-06  3.02e-08  6.00e-08  2.51e-07  7.68e-07  9.57e-01  \n",
      "  9  +4.6694e-09  -1.4535e-07  1.50e-07  2.77e-09  5.52e-09  2.30e-08  7.06e-08  9.53e-01  \n",
      " 10  +1.7956e-09  -1.8377e-08  2.02e-08  3.72e-10  7.42e-10  3.09e-09  9.50e-09  9.11e-01  \n",
      " 11  +4.2506e-11  -5.8569e-09  5.90e-09  1.09e-10  2.17e-10  9.04e-10  2.78e-09  8.02e-01  \n",
      "---------------------------------------------------------------------------------------------\n",
      "Terminated with status = Solved\n",
      "solve time = 143.8µs\n",
      "-------------------------------------------------------------------------------\n",
      "                                    Summary                                    \n",
      "-------------------------------------------------------------------------------\n",
      "(CVXPY) Mar 26 09:15:59 PM: Problem status: optimal\n",
      "(CVXPY) Mar 26 09:15:59 PM: Optimal value: 2.590e-10\n",
      "(CVXPY) Mar 26 09:15:59 PM: Compilation took 1.682e-02 seconds\n",
      "(CVXPY) Mar 26 09:15:59 PM: Solver (including time spent in interface) took 2.986e-03 seconds\n",
      "status: optimal\n",
      "optimal value 2.5898990106089147e-10\n",
      "optimal var: x = 2.5020058142472323 , y = 2.4979941857527677\n"
     ]
    }
   ],
   "source": [
    "prob = cvxpy.Problem(cvxpy.Minimize((x - y)**4), constraints)\n",
    "prob.solve(verbose=True)  \n",
    "print(\"status:\", prob.status)\n",
    "print(\"optimal value\", prob.value)\n",
    "print(f\"optimal var: x = {x.value} , y = {y.value}\")"
   ]
  },
  {
   "cell_type": "code",
   "execution_count": 70,
   "metadata": {},
   "outputs": [
    {
     "name": "stdout",
     "output_type": "stream",
     "text": [
      "===============================================================================\n",
      "                                     CVXPY                                     \n",
      "                                     v1.6.4                                    \n",
      "===============================================================================\n",
      "(CVXPY) Mar 26 09:16:19 PM: Your problem has 2 variables, 6 constraints, and 0 parameters.\n",
      "(CVXPY) Mar 26 09:16:19 PM: It is compliant with the following grammars: DCP, DQCP\n",
      "(CVXPY) Mar 26 09:16:19 PM: (If you need to solve this problem multiple times, but with different data, consider using parameters.)\n",
      "(CVXPY) Mar 26 09:16:19 PM: CVXPY will first compile your problem; then, it will invoke a numerical solver to obtain a solution.\n",
      "(CVXPY) Mar 26 09:16:19 PM: Your problem is compiled with the CPP canonicalization backend.\n"
     ]
    },
    {
     "ename": "SolverError",
     "evalue": "Problem could not be reduced to a QP, and no conic solvers exist among candidate solvers ({'qp_solvers': ['OSQP'], 'conic_solvers': []}).",
     "output_type": "error",
     "traceback": [
      "\u001b[1;31m---------------------------------------------------------------------------\u001b[0m",
      "\u001b[1;31mSolverError\u001b[0m                               Traceback (most recent call last)",
      "Input \u001b[1;32mIn [70]\u001b[0m, in \u001b[0;36m<module>\u001b[1;34m\u001b[0m\n\u001b[0;32m      1\u001b[0m prob \u001b[38;5;241m=\u001b[39m cvxpy\u001b[38;5;241m.\u001b[39mProblem(cvxpy\u001b[38;5;241m.\u001b[39mMinimize((x \u001b[38;5;241m-\u001b[39m y)\u001b[38;5;241m*\u001b[39m\u001b[38;5;241m*\u001b[39m\u001b[38;5;241m4\u001b[39m), constraints)\n\u001b[1;32m----> 2\u001b[0m \u001b[43mprob\u001b[49m\u001b[38;5;241;43m.\u001b[39;49m\u001b[43msolve\u001b[49m\u001b[43m(\u001b[49m\u001b[43msolver\u001b[49m\u001b[38;5;241;43m=\u001b[39;49m\u001b[43mcvxpy\u001b[49m\u001b[38;5;241;43m.\u001b[39;49m\u001b[43mOSQP\u001b[49m\u001b[43m,\u001b[49m\u001b[43m \u001b[49m\u001b[43mverbose\u001b[49m\u001b[38;5;241;43m=\u001b[39;49m\u001b[38;5;28;43;01mTrue\u001b[39;49;00m\u001b[43m)\u001b[49m  \n\u001b[0;32m      3\u001b[0m \u001b[38;5;28mprint\u001b[39m(\u001b[38;5;124m\"\u001b[39m\u001b[38;5;124mstatus:\u001b[39m\u001b[38;5;124m\"\u001b[39m, prob\u001b[38;5;241m.\u001b[39mstatus)\n\u001b[0;32m      4\u001b[0m \u001b[38;5;28mprint\u001b[39m(\u001b[38;5;124m\"\u001b[39m\u001b[38;5;124moptimal value\u001b[39m\u001b[38;5;124m\"\u001b[39m, prob\u001b[38;5;241m.\u001b[39mvalue)\n",
      "File \u001b[1;32mc:\\Users\\user\\AppData\\Local\\Programs\\Python\\Python310\\lib\\site-packages\\cvxpy\\problems\\problem.py:600\u001b[0m, in \u001b[0;36mProblem.solve\u001b[1;34m(self, *args, **kwargs)\u001b[0m\n\u001b[0;32m    597\u001b[0m         \u001b[38;5;28;01mraise\u001b[39;00m \u001b[38;5;167;01mValueError\u001b[39;00m(\n\u001b[0;32m    598\u001b[0m             \u001b[38;5;124m\"\u001b[39m\u001b[38;5;124mCannot specify both \u001b[39m\u001b[38;5;124m'\u001b[39m\u001b[38;5;124msolver\u001b[39m\u001b[38;5;124m'\u001b[39m\u001b[38;5;124m and \u001b[39m\u001b[38;5;124m'\u001b[39m\u001b[38;5;124msolver_path\u001b[39m\u001b[38;5;124m'\u001b[39m\u001b[38;5;124m. Please choose one.\u001b[39m\u001b[38;5;124m\"\u001b[39m)\n\u001b[0;32m    599\u001b[0m     \u001b[38;5;28;01mreturn\u001b[39;00m \u001b[38;5;28mself\u001b[39m\u001b[38;5;241m.\u001b[39m_solve_solver_path(solve_func,solver_path, args, kwargs)\n\u001b[1;32m--> 600\u001b[0m \u001b[38;5;28;01mreturn\u001b[39;00m solve_func(\u001b[38;5;28mself\u001b[39m, \u001b[38;5;241m*\u001b[39margs, \u001b[38;5;241m*\u001b[39m\u001b[38;5;241m*\u001b[39mkwargs)\n",
      "File \u001b[1;32mc:\\Users\\user\\AppData\\Local\\Programs\\Python\\Python310\\lib\\site-packages\\cvxpy\\problems\\problem.py:1170\u001b[0m, in \u001b[0;36mProblem._solve\u001b[1;34m(self, solver, warm_start, verbose, gp, qcp, requires_grad, enforce_dpp, ignore_dpp, canon_backend, **kwargs)\u001b[0m\n\u001b[0;32m   1167\u001b[0m         \u001b[38;5;28mself\u001b[39m\u001b[38;5;241m.\u001b[39munpack(chain\u001b[38;5;241m.\u001b[39mretrieve(soln))\n\u001b[0;32m   1168\u001b[0m         \u001b[38;5;28;01mreturn\u001b[39;00m \u001b[38;5;28mself\u001b[39m\u001b[38;5;241m.\u001b[39mvalue\n\u001b[1;32m-> 1170\u001b[0m data, solving_chain, inverse_data \u001b[38;5;241m=\u001b[39m \u001b[38;5;28;43mself\u001b[39;49m\u001b[38;5;241;43m.\u001b[39;49m\u001b[43mget_problem_data\u001b[49m\u001b[43m(\u001b[49m\n\u001b[0;32m   1171\u001b[0m \u001b[43m    \u001b[49m\u001b[43msolver\u001b[49m\u001b[43m,\u001b[49m\u001b[43m \u001b[49m\u001b[43mgp\u001b[49m\u001b[43m,\u001b[49m\u001b[43m \u001b[49m\u001b[43menforce_dpp\u001b[49m\u001b[43m,\u001b[49m\u001b[43m \u001b[49m\u001b[43mignore_dpp\u001b[49m\u001b[43m,\u001b[49m\u001b[43m \u001b[49m\u001b[43mverbose\u001b[49m\u001b[43m,\u001b[49m\u001b[43m \u001b[49m\u001b[43mcanon_backend\u001b[49m\u001b[43m,\u001b[49m\u001b[43m \u001b[49m\u001b[43mkwargs\u001b[49m\n\u001b[0;32m   1172\u001b[0m \u001b[43m\u001b[49m\u001b[43m)\u001b[49m\n\u001b[0;32m   1174\u001b[0m \u001b[38;5;28;01mif\u001b[39;00m verbose:\n\u001b[0;32m   1175\u001b[0m     \u001b[38;5;28mprint\u001b[39m(_NUM_SOLVER_STR)\n",
      "File \u001b[1;32mc:\\Users\\user\\AppData\\Local\\Programs\\Python\\Python310\\lib\\site-packages\\cvxpy\\problems\\problem.py:743\u001b[0m, in \u001b[0;36mProblem.get_problem_data\u001b[1;34m(self, solver, gp, enforce_dpp, ignore_dpp, verbose, canon_backend, solver_opts)\u001b[0m\n\u001b[0;32m    741\u001b[0m \u001b[38;5;28;01mif\u001b[39;00m key \u001b[38;5;241m!=\u001b[39m \u001b[38;5;28mself\u001b[39m\u001b[38;5;241m.\u001b[39m_cache\u001b[38;5;241m.\u001b[39mkey:\n\u001b[0;32m    742\u001b[0m     \u001b[38;5;28mself\u001b[39m\u001b[38;5;241m.\u001b[39m_cache\u001b[38;5;241m.\u001b[39minvalidate()\n\u001b[1;32m--> 743\u001b[0m     solving_chain \u001b[38;5;241m=\u001b[39m \u001b[38;5;28;43mself\u001b[39;49m\u001b[38;5;241;43m.\u001b[39;49m\u001b[43m_construct_chain\u001b[49m\u001b[43m(\u001b[49m\n\u001b[0;32m    744\u001b[0m \u001b[43m        \u001b[49m\u001b[43msolver\u001b[49m\u001b[38;5;241;43m=\u001b[39;49m\u001b[43msolver\u001b[49m\u001b[43m,\u001b[49m\u001b[43m \u001b[49m\u001b[43mgp\u001b[49m\u001b[38;5;241;43m=\u001b[39;49m\u001b[43mgp\u001b[49m\u001b[43m,\u001b[49m\n\u001b[0;32m    745\u001b[0m \u001b[43m        \u001b[49m\u001b[43menforce_dpp\u001b[49m\u001b[38;5;241;43m=\u001b[39;49m\u001b[43menforce_dpp\u001b[49m\u001b[43m,\u001b[49m\n\u001b[0;32m    746\u001b[0m \u001b[43m        \u001b[49m\u001b[43mignore_dpp\u001b[49m\u001b[38;5;241;43m=\u001b[39;49m\u001b[43mignore_dpp\u001b[49m\u001b[43m,\u001b[49m\n\u001b[0;32m    747\u001b[0m \u001b[43m        \u001b[49m\u001b[43mcanon_backend\u001b[49m\u001b[38;5;241;43m=\u001b[39;49m\u001b[43mcanon_backend\u001b[49m\u001b[43m,\u001b[49m\n\u001b[0;32m    748\u001b[0m \u001b[43m        \u001b[49m\u001b[43msolver_opts\u001b[49m\u001b[38;5;241;43m=\u001b[39;49m\u001b[43msolver_opts\u001b[49m\u001b[43m)\u001b[49m\n\u001b[0;32m    749\u001b[0m     \u001b[38;5;28mself\u001b[39m\u001b[38;5;241m.\u001b[39m_cache\u001b[38;5;241m.\u001b[39mkey \u001b[38;5;241m=\u001b[39m key\n\u001b[0;32m    750\u001b[0m     \u001b[38;5;28mself\u001b[39m\u001b[38;5;241m.\u001b[39m_cache\u001b[38;5;241m.\u001b[39msolving_chain \u001b[38;5;241m=\u001b[39m solving_chain\n",
      "File \u001b[1;32mc:\\Users\\user\\AppData\\Local\\Programs\\Python\\Python310\\lib\\site-packages\\cvxpy\\problems\\problem.py:994\u001b[0m, in \u001b[0;36mProblem._construct_chain\u001b[1;34m(self, solver, gp, enforce_dpp, ignore_dpp, canon_backend, solver_opts)\u001b[0m\n\u001b[0;32m    992\u001b[0m candidate_solvers \u001b[38;5;241m=\u001b[39m \u001b[38;5;28mself\u001b[39m\u001b[38;5;241m.\u001b[39m_find_candidate_solvers(solver\u001b[38;5;241m=\u001b[39msolver, gp\u001b[38;5;241m=\u001b[39mgp)\n\u001b[0;32m    993\u001b[0m \u001b[38;5;28mself\u001b[39m\u001b[38;5;241m.\u001b[39m_sort_candidate_solvers(candidate_solvers)\n\u001b[1;32m--> 994\u001b[0m \u001b[38;5;28;01mreturn\u001b[39;00m \u001b[43mconstruct_solving_chain\u001b[49m\u001b[43m(\u001b[49m\u001b[38;5;28;43mself\u001b[39;49m\u001b[43m,\u001b[49m\u001b[43m \u001b[49m\u001b[43mcandidate_solvers\u001b[49m\u001b[43m,\u001b[49m\u001b[43m \u001b[49m\u001b[43mgp\u001b[49m\u001b[38;5;241;43m=\u001b[39;49m\u001b[43mgp\u001b[49m\u001b[43m,\u001b[49m\n\u001b[0;32m    995\u001b[0m \u001b[43m                               \u001b[49m\u001b[43menforce_dpp\u001b[49m\u001b[38;5;241;43m=\u001b[39;49m\u001b[43menforce_dpp\u001b[49m\u001b[43m,\u001b[49m\n\u001b[0;32m    996\u001b[0m \u001b[43m                               \u001b[49m\u001b[43mignore_dpp\u001b[49m\u001b[38;5;241;43m=\u001b[39;49m\u001b[43mignore_dpp\u001b[49m\u001b[43m,\u001b[49m\n\u001b[0;32m    997\u001b[0m \u001b[43m                               \u001b[49m\u001b[43mcanon_backend\u001b[49m\u001b[38;5;241;43m=\u001b[39;49m\u001b[43mcanon_backend\u001b[49m\u001b[43m,\u001b[49m\n\u001b[0;32m    998\u001b[0m \u001b[43m                               \u001b[49m\u001b[43msolver_opts\u001b[49m\u001b[38;5;241;43m=\u001b[39;49m\u001b[43msolver_opts\u001b[49m\u001b[43m,\u001b[49m\n\u001b[0;32m    999\u001b[0m \u001b[43m                               \u001b[49m\u001b[43mspecified_solver\u001b[49m\u001b[38;5;241;43m=\u001b[39;49m\u001b[43msolver\u001b[49m\u001b[43m)\u001b[49m\n",
      "File \u001b[1;32mc:\\Users\\user\\AppData\\Local\\Programs\\Python\\Python310\\lib\\site-packages\\cvxpy\\reductions\\solvers\\solving_chain.py:236\u001b[0m, in \u001b[0;36mconstruct_solving_chain\u001b[1;34m(problem, candidates, gp, enforce_dpp, ignore_dpp, canon_backend, solver_opts, specified_solver)\u001b[0m\n\u001b[0;32m    234\u001b[0m \u001b[38;5;28;01mif\u001b[39;00m \u001b[38;5;28mlen\u001b[39m(problem\u001b[38;5;241m.\u001b[39mvariables()) \u001b[38;5;241m==\u001b[39m \u001b[38;5;241m0\u001b[39m:\n\u001b[0;32m    235\u001b[0m     \u001b[38;5;28;01mreturn\u001b[39;00m SolvingChain(reductions\u001b[38;5;241m=\u001b[39m[ConstantSolver()])\n\u001b[1;32m--> 236\u001b[0m reductions \u001b[38;5;241m=\u001b[39m \u001b[43m_reductions_for_problem_class\u001b[49m\u001b[43m(\u001b[49m\u001b[43mproblem\u001b[49m\u001b[43m,\u001b[49m\u001b[43m \u001b[49m\u001b[43mcandidates\u001b[49m\u001b[43m,\u001b[49m\u001b[43m \u001b[49m\u001b[43mgp\u001b[49m\u001b[43m,\u001b[49m\u001b[43m \u001b[49m\u001b[43msolver_opts\u001b[49m\u001b[43m)\u001b[49m\n\u001b[0;32m    238\u001b[0m \u001b[38;5;66;03m# Process DPP status of the problem.\u001b[39;00m\n\u001b[0;32m    239\u001b[0m dpp_context \u001b[38;5;241m=\u001b[39m \u001b[38;5;124m'\u001b[39m\u001b[38;5;124mdcp\u001b[39m\u001b[38;5;124m'\u001b[39m \u001b[38;5;28;01mif\u001b[39;00m \u001b[38;5;129;01mnot\u001b[39;00m gp \u001b[38;5;28;01melse\u001b[39;00m \u001b[38;5;124m'\u001b[39m\u001b[38;5;124mdgp\u001b[39m\u001b[38;5;124m'\u001b[39m\n",
      "File \u001b[1;32mc:\\Users\\user\\AppData\\Local\\Programs\\Python\\Python310\\lib\\site-packages\\cvxpy\\reductions\\solvers\\solving_chain.py:176\u001b[0m, in \u001b[0;36m_reductions_for_problem_class\u001b[1;34m(problem, candidates, gp, solver_opts)\u001b[0m\n\u001b[0;32m    174\u001b[0m valid_conic \u001b[38;5;241m=\u001b[39m \u001b[38;5;28mlen\u001b[39m(candidates[\u001b[38;5;124m'\u001b[39m\u001b[38;5;124mconic_solvers\u001b[39m\u001b[38;5;124m'\u001b[39m]) \u001b[38;5;241m>\u001b[39m \u001b[38;5;241m0\u001b[39m\n\u001b[0;32m    175\u001b[0m \u001b[38;5;28;01mif\u001b[39;00m \u001b[38;5;129;01mnot\u001b[39;00m valid_qp \u001b[38;5;129;01mand\u001b[39;00m \u001b[38;5;129;01mnot\u001b[39;00m valid_conic:\n\u001b[1;32m--> 176\u001b[0m     \u001b[38;5;28;01mraise\u001b[39;00m SolverError(\u001b[38;5;124m\"\u001b[39m\u001b[38;5;124mProblem could not be reduced to a QP, and no \u001b[39m\u001b[38;5;124m\"\u001b[39m\n\u001b[0;32m    177\u001b[0m                         \u001b[38;5;124m\"\u001b[39m\u001b[38;5;124mconic solvers exist among candidate solvers \u001b[39m\u001b[38;5;124m\"\u001b[39m\n\u001b[0;32m    178\u001b[0m                         \u001b[38;5;124m\"\u001b[39m\u001b[38;5;124m(\u001b[39m\u001b[38;5;132;01m%s\u001b[39;00m\u001b[38;5;124m).\u001b[39m\u001b[38;5;124m\"\u001b[39m \u001b[38;5;241m%\u001b[39m candidates)\n\u001b[0;32m    180\u001b[0m \u001b[38;5;28;01mreturn\u001b[39;00m reductions\n",
      "\u001b[1;31mSolverError\u001b[0m: Problem could not be reduced to a QP, and no conic solvers exist among candidate solvers ({'qp_solvers': ['OSQP'], 'conic_solvers': []})."
     ]
    }
   ],
   "source": [
    "prob = cvxpy.Problem(cvxpy.Minimize((x - y)**4), constraints)\n",
    "prob.solve(solver=cvxpy.OSQP, verbose=True)  \n",
    "print(\"status:\", prob.status)\n",
    "print(\"optimal value\", prob.value)\n",
    "print(f\"optimal var: x = {x.value} , y = {y.value}\")"
   ]
  },
  {
   "cell_type": "code",
   "execution_count": 71,
   "metadata": {},
   "outputs": [
    {
     "name": "stdout",
     "output_type": "stream",
     "text": [
      "===============================================================================\n",
      "                                     CVXPY                                     \n",
      "                                     v1.6.4                                    \n",
      "===============================================================================\n",
      "(CVXPY) Mar 26 09:17:14 PM: Your problem has 2 variables, 6 constraints, and 0 parameters.\n",
      "(CVXPY) Mar 26 09:17:14 PM: It is compliant with the following grammars: DCP, DQCP\n",
      "(CVXPY) Mar 26 09:17:14 PM: (If you need to solve this problem multiple times, but with different data, consider using parameters.)\n",
      "(CVXPY) Mar 26 09:17:14 PM: CVXPY will first compile your problem; then, it will invoke a numerical solver to obtain a solution.\n",
      "(CVXPY) Mar 26 09:17:14 PM: Your problem is compiled with the CPP canonicalization backend.\n",
      "(CVXPY) Mar 26 09:17:14 PM: Solver OSQP failed: Problem could not be reduced to a QP, and no conic solvers exist among candidate solvers ({'qp_solvers': ['OSQP'], 'conic_solvers': []}).\n",
      "===============================================================================\n",
      "                                     CVXPY                                     \n",
      "                                     v1.6.4                                    \n",
      "===============================================================================\n",
      "(CVXPY) Mar 26 09:17:14 PM: Your problem has 2 variables, 6 constraints, and 0 parameters.\n",
      "(CVXPY) Mar 26 09:17:14 PM: It is compliant with the following grammars: DCP, DQCP\n",
      "(CVXPY) Mar 26 09:17:14 PM: (If you need to solve this problem multiple times, but with different data, consider using parameters.)\n",
      "(CVXPY) Mar 26 09:17:14 PM: CVXPY will first compile your problem; then, it will invoke a numerical solver to obtain a solution.\n",
      "(CVXPY) Mar 26 09:17:14 PM: Your problem is compiled with the CPP canonicalization backend.\n",
      "-------------------------------------------------------------------------------\n",
      "                                  Compilation                                  \n",
      "-------------------------------------------------------------------------------\n",
      "(CVXPY) Mar 26 09:17:14 PM: Compiling problem (target solver=CLARABEL).\n",
      "(CVXPY) Mar 26 09:17:14 PM: Reduction chain: Dcp2Cone -> CvxAttr2Constr -> ConeMatrixStuffing -> CLARABEL\n",
      "(CVXPY) Mar 26 09:17:14 PM: Applying reduction Dcp2Cone\n",
      "(CVXPY) Mar 26 09:17:14 PM: Applying reduction CvxAttr2Constr\n",
      "(CVXPY) Mar 26 09:17:14 PM: Applying reduction ConeMatrixStuffing\n",
      "(CVXPY) Mar 26 09:17:14 PM: Applying reduction CLARABEL\n",
      "(CVXPY) Mar 26 09:17:14 PM: Finished problem compilation (took 1.902e-02 seconds).\n",
      "-------------------------------------------------------------------------------\n",
      "                                Numerical solver                               \n",
      "-------------------------------------------------------------------------------\n",
      "(CVXPY) Mar 26 09:17:14 PM: Invoking solver CLARABEL  to obtain a solution.\n",
      "-------------------------------------------------------------\n",
      "           Clarabel.rs v0.7.1  -  Clever Acronym              \n",
      "\n",
      "                   (c) Paul Goulart                          \n",
      "                University of Oxford, 2022                   \n",
      "-------------------------------------------------------------\n",
      "\n",
      "problem:\n",
      "  variables     = 4\n",
      "  constraints   = 12\n",
      "  nnz(P)        = 0\n",
      "  nnz(A)        = 15\n",
      "  cones (total) = 4\n",
      "    :        Zero = 1,  numel = 1\n",
      "    : Nonnegative = 1,  numel = 5\n",
      "    : SecondOrder = 2,  numel = (3,3)\n",
      "\n",
      "settings:\n",
      "  linear algebra: direct / qdldl, precision: 64 bit\n",
      "  max iter = 200, time limit = Inf,  max step = 0.990\n",
      "  tol_feas = 1.0e-8, tol_gap_abs = 1.0e-8, tol_gap_rel = 1.0e-8,\n",
      "  static reg : on, ϵ1 = 1.0e-8, ϵ2 = 4.9e-32\n",
      "  dynamic reg: on, ϵ = 1.0e-13, δ = 2.0e-7\n",
      "  iter refine: on, reltol = 1.0e-13, abstol = 1.0e-12,\n",
      "               max iter = 10, stop ratio = 5.0\n",
      "  equilibrate: on, min_scale = 1.0e-5, max_scale = 1.0e5\n",
      "               max iter = 10\n",
      "\n",
      "iter    pcost        dcost       gap       pres      dres      k/t        μ       step      \n",
      "---------------------------------------------------------------------------------------------\n",
      "  0  +2.2204e-16  -7.7333e+00  7.73e+00  1.25e-01  2.34e-01  1.00e+00  2.04e+00   ------   \n",
      "  1  +3.2101e-02  -5.7522e-01  6.07e-01  1.08e-02  2.13e-02  7.47e-02  2.39e-01  9.17e-01  \n",
      "  2  +3.3831e-04  -4.8804e-02  4.91e-02  8.82e-04  1.75e-03  5.99e-03  2.15e-02  9.11e-01  \n",
      "  3  +1.3167e-03  -1.0482e-02  1.18e-02  2.15e-04  4.28e-04  1.64e-03  5.35e-03  8.63e-01  \n",
      "  4  -1.2927e-04  -2.7357e-03  2.61e-03  4.79e-05  9.53e-05  3.84e-04  1.21e-03  8.83e-01  \n",
      "  5  +6.0239e-05  -2.3498e-04  2.95e-04  5.47e-06  1.09e-05  4.58e-05  1.38e-04  9.90e-01  \n",
      "  6  +9.0574e-06  -3.3163e-05  4.22e-05  7.81e-07  1.55e-06  6.48e-06  1.98e-05  8.69e-01  \n",
      "  7  -3.4883e-07  -1.0854e-05  1.05e-05  1.94e-07  3.86e-07  1.61e-06  4.94e-06  8.84e-01  \n",
      "  8  +3.0400e-07  -1.3274e-06  1.63e-06  3.02e-08  6.00e-08  2.51e-07  7.68e-07  9.57e-01  \n",
      "  9  +4.6694e-09  -1.4535e-07  1.50e-07  2.77e-09  5.52e-09  2.30e-08  7.06e-08  9.53e-01  \n",
      " 10  +1.7956e-09  -1.8377e-08  2.02e-08  3.72e-10  7.42e-10  3.09e-09  9.50e-09  9.11e-01  \n",
      " 11  +4.2506e-11  -5.8569e-09  5.90e-09  1.09e-10  2.17e-10  9.04e-10  2.78e-09  8.02e-01  \n",
      "---------------------------------------------------------------------------------------------\n",
      "Terminated with status = Solved\n",
      "solve time = 198.4µs\n",
      "-------------------------------------------------------------------------------\n",
      "                                    Summary                                    \n",
      "-------------------------------------------------------------------------------\n",
      "(CVXPY) Mar 26 09:17:14 PM: Problem status: optimal\n",
      "(CVXPY) Mar 26 09:17:14 PM: Optimal value: 2.590e-10\n",
      "(CVXPY) Mar 26 09:17:14 PM: Compilation took 1.902e-02 seconds\n",
      "(CVXPY) Mar 26 09:17:14 PM: Solver (including time spent in interface) took 3.976e-03 seconds\n",
      "(CVXPY) Mar 26 09:17:14 PM: Solver CLARABEL succeeds\n",
      "status: optimal\n",
      "optimal value 2.5898990106089147e-10\n",
      "optimal var: x = 2.5020058142472323 , y = 2.4979941857527677\n"
     ]
    }
   ],
   "source": [
    "prob = cvxpy.Problem(cvxpy.Minimize((x - y)**4), constraints)\n",
    "prob.solve(solver_path=[cvxpy.OSQP,cvxpy.CLARABEL], verbose=True)  \n",
    "print(\"status:\", prob.status)\n",
    "print(\"optimal value\", prob.value)\n",
    "print(f\"optimal var: x = {x.value} , y = {y.value}\")"
   ]
  },
  {
   "cell_type": "markdown",
   "metadata": {},
   "source": [
    "## Convex and concave"
   ]
  },
  {
   "cell_type": "code",
   "execution_count": 72,
   "metadata": {},
   "outputs": [
    {
     "ename": "DCPError",
     "evalue": "Problem does not follow DCP rules. Specifically:\nThe objective is not DCP, even though each sub-expression is.\nYou are trying to maximize a function that is convex.",
     "output_type": "error",
     "traceback": [
      "\u001b[1;31m---------------------------------------------------------------------------\u001b[0m",
      "\u001b[1;31mDCPError\u001b[0m                                  Traceback (most recent call last)",
      "Input \u001b[1;32mIn [72]\u001b[0m, in \u001b[0;36m<module>\u001b[1;34m\u001b[0m\n\u001b[0;32m      1\u001b[0m \u001b[38;5;66;03m# We can only maximize a concave function, or minimize a convex function, but not vice versa!\u001b[39;00m\n\u001b[0;32m      3\u001b[0m prob \u001b[38;5;241m=\u001b[39m cvxpy\u001b[38;5;241m.\u001b[39mProblem(cvxpy\u001b[38;5;241m.\u001b[39mMaximize(x\u001b[38;5;241m*\u001b[39m\u001b[38;5;241m*\u001b[39m\u001b[38;5;241m2\u001b[39m), constraints)\n\u001b[1;32m----> 4\u001b[0m \u001b[43mprob\u001b[49m\u001b[38;5;241;43m.\u001b[39;49m\u001b[43msolve\u001b[49m\u001b[43m(\u001b[49m\u001b[43m)\u001b[49m  \u001b[38;5;66;03m# Returns the optimal value.\u001b[39;00m\n\u001b[0;32m      5\u001b[0m \u001b[38;5;28mprint\u001b[39m(\u001b[38;5;124m\"\u001b[39m\u001b[38;5;124mstatus:\u001b[39m\u001b[38;5;124m\"\u001b[39m, prob\u001b[38;5;241m.\u001b[39mstatus)\n\u001b[0;32m      6\u001b[0m \u001b[38;5;28mprint\u001b[39m(\u001b[38;5;124m\"\u001b[39m\u001b[38;5;124moptimal value\u001b[39m\u001b[38;5;124m\"\u001b[39m, prob\u001b[38;5;241m.\u001b[39mvalue)\n",
      "File \u001b[1;32mc:\\Users\\user\\AppData\\Local\\Programs\\Python\\Python310\\lib\\site-packages\\cvxpy\\problems\\problem.py:600\u001b[0m, in \u001b[0;36mProblem.solve\u001b[1;34m(self, *args, **kwargs)\u001b[0m\n\u001b[0;32m    597\u001b[0m         \u001b[38;5;28;01mraise\u001b[39;00m \u001b[38;5;167;01mValueError\u001b[39;00m(\n\u001b[0;32m    598\u001b[0m             \u001b[38;5;124m\"\u001b[39m\u001b[38;5;124mCannot specify both \u001b[39m\u001b[38;5;124m'\u001b[39m\u001b[38;5;124msolver\u001b[39m\u001b[38;5;124m'\u001b[39m\u001b[38;5;124m and \u001b[39m\u001b[38;5;124m'\u001b[39m\u001b[38;5;124msolver_path\u001b[39m\u001b[38;5;124m'\u001b[39m\u001b[38;5;124m. Please choose one.\u001b[39m\u001b[38;5;124m\"\u001b[39m)\n\u001b[0;32m    599\u001b[0m     \u001b[38;5;28;01mreturn\u001b[39;00m \u001b[38;5;28mself\u001b[39m\u001b[38;5;241m.\u001b[39m_solve_solver_path(solve_func,solver_path, args, kwargs)\n\u001b[1;32m--> 600\u001b[0m \u001b[38;5;28;01mreturn\u001b[39;00m solve_func(\u001b[38;5;28mself\u001b[39m, \u001b[38;5;241m*\u001b[39margs, \u001b[38;5;241m*\u001b[39m\u001b[38;5;241m*\u001b[39mkwargs)\n",
      "File \u001b[1;32mc:\\Users\\user\\AppData\\Local\\Programs\\Python\\Python310\\lib\\site-packages\\cvxpy\\problems\\problem.py:1170\u001b[0m, in \u001b[0;36mProblem._solve\u001b[1;34m(self, solver, warm_start, verbose, gp, qcp, requires_grad, enforce_dpp, ignore_dpp, canon_backend, **kwargs)\u001b[0m\n\u001b[0;32m   1167\u001b[0m         \u001b[38;5;28mself\u001b[39m\u001b[38;5;241m.\u001b[39munpack(chain\u001b[38;5;241m.\u001b[39mretrieve(soln))\n\u001b[0;32m   1168\u001b[0m         \u001b[38;5;28;01mreturn\u001b[39;00m \u001b[38;5;28mself\u001b[39m\u001b[38;5;241m.\u001b[39mvalue\n\u001b[1;32m-> 1170\u001b[0m data, solving_chain, inverse_data \u001b[38;5;241m=\u001b[39m \u001b[38;5;28;43mself\u001b[39;49m\u001b[38;5;241;43m.\u001b[39;49m\u001b[43mget_problem_data\u001b[49m\u001b[43m(\u001b[49m\n\u001b[0;32m   1171\u001b[0m \u001b[43m    \u001b[49m\u001b[43msolver\u001b[49m\u001b[43m,\u001b[49m\u001b[43m \u001b[49m\u001b[43mgp\u001b[49m\u001b[43m,\u001b[49m\u001b[43m \u001b[49m\u001b[43menforce_dpp\u001b[49m\u001b[43m,\u001b[49m\u001b[43m \u001b[49m\u001b[43mignore_dpp\u001b[49m\u001b[43m,\u001b[49m\u001b[43m \u001b[49m\u001b[43mverbose\u001b[49m\u001b[43m,\u001b[49m\u001b[43m \u001b[49m\u001b[43mcanon_backend\u001b[49m\u001b[43m,\u001b[49m\u001b[43m \u001b[49m\u001b[43mkwargs\u001b[49m\n\u001b[0;32m   1172\u001b[0m \u001b[43m\u001b[49m\u001b[43m)\u001b[49m\n\u001b[0;32m   1174\u001b[0m \u001b[38;5;28;01mif\u001b[39;00m verbose:\n\u001b[0;32m   1175\u001b[0m     \u001b[38;5;28mprint\u001b[39m(_NUM_SOLVER_STR)\n",
      "File \u001b[1;32mc:\\Users\\user\\AppData\\Local\\Programs\\Python\\Python310\\lib\\site-packages\\cvxpy\\problems\\problem.py:743\u001b[0m, in \u001b[0;36mProblem.get_problem_data\u001b[1;34m(self, solver, gp, enforce_dpp, ignore_dpp, verbose, canon_backend, solver_opts)\u001b[0m\n\u001b[0;32m    741\u001b[0m \u001b[38;5;28;01mif\u001b[39;00m key \u001b[38;5;241m!=\u001b[39m \u001b[38;5;28mself\u001b[39m\u001b[38;5;241m.\u001b[39m_cache\u001b[38;5;241m.\u001b[39mkey:\n\u001b[0;32m    742\u001b[0m     \u001b[38;5;28mself\u001b[39m\u001b[38;5;241m.\u001b[39m_cache\u001b[38;5;241m.\u001b[39minvalidate()\n\u001b[1;32m--> 743\u001b[0m     solving_chain \u001b[38;5;241m=\u001b[39m \u001b[38;5;28;43mself\u001b[39;49m\u001b[38;5;241;43m.\u001b[39;49m\u001b[43m_construct_chain\u001b[49m\u001b[43m(\u001b[49m\n\u001b[0;32m    744\u001b[0m \u001b[43m        \u001b[49m\u001b[43msolver\u001b[49m\u001b[38;5;241;43m=\u001b[39;49m\u001b[43msolver\u001b[49m\u001b[43m,\u001b[49m\u001b[43m \u001b[49m\u001b[43mgp\u001b[49m\u001b[38;5;241;43m=\u001b[39;49m\u001b[43mgp\u001b[49m\u001b[43m,\u001b[49m\n\u001b[0;32m    745\u001b[0m \u001b[43m        \u001b[49m\u001b[43menforce_dpp\u001b[49m\u001b[38;5;241;43m=\u001b[39;49m\u001b[43menforce_dpp\u001b[49m\u001b[43m,\u001b[49m\n\u001b[0;32m    746\u001b[0m \u001b[43m        \u001b[49m\u001b[43mignore_dpp\u001b[49m\u001b[38;5;241;43m=\u001b[39;49m\u001b[43mignore_dpp\u001b[49m\u001b[43m,\u001b[49m\n\u001b[0;32m    747\u001b[0m \u001b[43m        \u001b[49m\u001b[43mcanon_backend\u001b[49m\u001b[38;5;241;43m=\u001b[39;49m\u001b[43mcanon_backend\u001b[49m\u001b[43m,\u001b[49m\n\u001b[0;32m    748\u001b[0m \u001b[43m        \u001b[49m\u001b[43msolver_opts\u001b[49m\u001b[38;5;241;43m=\u001b[39;49m\u001b[43msolver_opts\u001b[49m\u001b[43m)\u001b[49m\n\u001b[0;32m    749\u001b[0m     \u001b[38;5;28mself\u001b[39m\u001b[38;5;241m.\u001b[39m_cache\u001b[38;5;241m.\u001b[39mkey \u001b[38;5;241m=\u001b[39m key\n\u001b[0;32m    750\u001b[0m     \u001b[38;5;28mself\u001b[39m\u001b[38;5;241m.\u001b[39m_cache\u001b[38;5;241m.\u001b[39msolving_chain \u001b[38;5;241m=\u001b[39m solving_chain\n",
      "File \u001b[1;32mc:\\Users\\user\\AppData\\Local\\Programs\\Python\\Python310\\lib\\site-packages\\cvxpy\\problems\\problem.py:994\u001b[0m, in \u001b[0;36mProblem._construct_chain\u001b[1;34m(self, solver, gp, enforce_dpp, ignore_dpp, canon_backend, solver_opts)\u001b[0m\n\u001b[0;32m    992\u001b[0m candidate_solvers \u001b[38;5;241m=\u001b[39m \u001b[38;5;28mself\u001b[39m\u001b[38;5;241m.\u001b[39m_find_candidate_solvers(solver\u001b[38;5;241m=\u001b[39msolver, gp\u001b[38;5;241m=\u001b[39mgp)\n\u001b[0;32m    993\u001b[0m \u001b[38;5;28mself\u001b[39m\u001b[38;5;241m.\u001b[39m_sort_candidate_solvers(candidate_solvers)\n\u001b[1;32m--> 994\u001b[0m \u001b[38;5;28;01mreturn\u001b[39;00m \u001b[43mconstruct_solving_chain\u001b[49m\u001b[43m(\u001b[49m\u001b[38;5;28;43mself\u001b[39;49m\u001b[43m,\u001b[49m\u001b[43m \u001b[49m\u001b[43mcandidate_solvers\u001b[49m\u001b[43m,\u001b[49m\u001b[43m \u001b[49m\u001b[43mgp\u001b[49m\u001b[38;5;241;43m=\u001b[39;49m\u001b[43mgp\u001b[49m\u001b[43m,\u001b[49m\n\u001b[0;32m    995\u001b[0m \u001b[43m                               \u001b[49m\u001b[43menforce_dpp\u001b[49m\u001b[38;5;241;43m=\u001b[39;49m\u001b[43menforce_dpp\u001b[49m\u001b[43m,\u001b[49m\n\u001b[0;32m    996\u001b[0m \u001b[43m                               \u001b[49m\u001b[43mignore_dpp\u001b[49m\u001b[38;5;241;43m=\u001b[39;49m\u001b[43mignore_dpp\u001b[49m\u001b[43m,\u001b[49m\n\u001b[0;32m    997\u001b[0m \u001b[43m                               \u001b[49m\u001b[43mcanon_backend\u001b[49m\u001b[38;5;241;43m=\u001b[39;49m\u001b[43mcanon_backend\u001b[49m\u001b[43m,\u001b[49m\n\u001b[0;32m    998\u001b[0m \u001b[43m                               \u001b[49m\u001b[43msolver_opts\u001b[49m\u001b[38;5;241;43m=\u001b[39;49m\u001b[43msolver_opts\u001b[49m\u001b[43m,\u001b[49m\n\u001b[0;32m    999\u001b[0m \u001b[43m                               \u001b[49m\u001b[43mspecified_solver\u001b[49m\u001b[38;5;241;43m=\u001b[39;49m\u001b[43msolver\u001b[49m\u001b[43m)\u001b[49m\n",
      "File \u001b[1;32mc:\\Users\\user\\AppData\\Local\\Programs\\Python\\Python310\\lib\\site-packages\\cvxpy\\reductions\\solvers\\solving_chain.py:236\u001b[0m, in \u001b[0;36mconstruct_solving_chain\u001b[1;34m(problem, candidates, gp, enforce_dpp, ignore_dpp, canon_backend, solver_opts, specified_solver)\u001b[0m\n\u001b[0;32m    234\u001b[0m \u001b[38;5;28;01mif\u001b[39;00m \u001b[38;5;28mlen\u001b[39m(problem\u001b[38;5;241m.\u001b[39mvariables()) \u001b[38;5;241m==\u001b[39m \u001b[38;5;241m0\u001b[39m:\n\u001b[0;32m    235\u001b[0m     \u001b[38;5;28;01mreturn\u001b[39;00m SolvingChain(reductions\u001b[38;5;241m=\u001b[39m[ConstantSolver()])\n\u001b[1;32m--> 236\u001b[0m reductions \u001b[38;5;241m=\u001b[39m \u001b[43m_reductions_for_problem_class\u001b[49m\u001b[43m(\u001b[49m\u001b[43mproblem\u001b[49m\u001b[43m,\u001b[49m\u001b[43m \u001b[49m\u001b[43mcandidates\u001b[49m\u001b[43m,\u001b[49m\u001b[43m \u001b[49m\u001b[43mgp\u001b[49m\u001b[43m,\u001b[49m\u001b[43m \u001b[49m\u001b[43msolver_opts\u001b[49m\u001b[43m)\u001b[49m\n\u001b[0;32m    238\u001b[0m \u001b[38;5;66;03m# Process DPP status of the problem.\u001b[39;00m\n\u001b[0;32m    239\u001b[0m dpp_context \u001b[38;5;241m=\u001b[39m \u001b[38;5;124m'\u001b[39m\u001b[38;5;124mdcp\u001b[39m\u001b[38;5;124m'\u001b[39m \u001b[38;5;28;01mif\u001b[39;00m \u001b[38;5;129;01mnot\u001b[39;00m gp \u001b[38;5;28;01melse\u001b[39;00m \u001b[38;5;124m'\u001b[39m\u001b[38;5;124mdgp\u001b[39m\u001b[38;5;124m'\u001b[39m\n",
      "File \u001b[1;32mc:\\Users\\user\\AppData\\Local\\Programs\\Python\\Python310\\lib\\site-packages\\cvxpy\\reductions\\solvers\\solving_chain.py:150\u001b[0m, in \u001b[0;36m_reductions_for_problem_class\u001b[1;34m(problem, candidates, gp, solver_opts)\u001b[0m\n\u001b[0;32m    147\u001b[0m     \u001b[38;5;28;01melif\u001b[39;00m problem\u001b[38;5;241m.\u001b[39mis_dqcp():\n\u001b[0;32m    148\u001b[0m         append \u001b[38;5;241m+\u001b[39m\u001b[38;5;241m=\u001b[39m (\u001b[38;5;124m\"\u001b[39m\u001b[38;5;130;01m\\n\u001b[39;00m\u001b[38;5;124mHowever, the problem does follow DQCP rules. \u001b[39m\u001b[38;5;124m\"\u001b[39m\n\u001b[0;32m    149\u001b[0m                    \u001b[38;5;124m\"\u001b[39m\u001b[38;5;124mConsider calling solve() with `qcp=True`.\u001b[39m\u001b[38;5;124m\"\u001b[39m)\n\u001b[1;32m--> 150\u001b[0m     \u001b[38;5;28;01mraise\u001b[39;00m DCPError(\n\u001b[0;32m    151\u001b[0m         \u001b[38;5;124m\"\u001b[39m\u001b[38;5;124mProblem does not follow DCP rules. Specifically:\u001b[39m\u001b[38;5;130;01m\\n\u001b[39;00m\u001b[38;5;124m\"\u001b[39m \u001b[38;5;241m+\u001b[39m append)\n\u001b[0;32m    152\u001b[0m \u001b[38;5;28;01melif\u001b[39;00m gp \u001b[38;5;129;01mand\u001b[39;00m \u001b[38;5;129;01mnot\u001b[39;00m problem\u001b[38;5;241m.\u001b[39mis_dgp():\n\u001b[0;32m    153\u001b[0m     append \u001b[38;5;241m=\u001b[39m build_non_disciplined_error_msg(problem, \u001b[38;5;124m'\u001b[39m\u001b[38;5;124mDGP\u001b[39m\u001b[38;5;124m'\u001b[39m)\n",
      "\u001b[1;31mDCPError\u001b[0m: Problem does not follow DCP rules. Specifically:\nThe objective is not DCP, even though each sub-expression is.\nYou are trying to maximize a function that is convex."
     ]
    }
   ],
   "source": [
    "# We can only maximize a concave function, or minimize a convex function, but not vice versa!\n",
    "\n",
    "prob = cvxpy.Problem(cvxpy.Maximize(x**2), constraints)\n",
    "prob.solve()  # Returns the optimal value.\n",
    "print(\"status:\", prob.status)\n",
    "print(\"optimal value\", prob.value)"
   ]
  },
  {
   "cell_type": "code",
   "execution_count": 12,
   "metadata": {},
   "outputs": [],
   "source": [
    "# A scalar variable.\n",
    "a = cvxpy.Variable()\n",
    "\n",
    "# Vector variable with shape (5,).\n",
    "x = cvxpy.Variable(5)\n",
    "\n",
    "# Matrix variable with shape (4, 7).\n",
    "A = cvxpy.Variable((4, 7))"
   ]
  },
  {
   "cell_type": "markdown",
   "metadata": {},
   "source": [
    "## Implementing optimization problems from papers\n",
    "\n",
    "From [Aziz Moulin and Sandomirsiky (2020), A polynomial-time algorithm for computing a Pareto optimal and almost proportional allocation](https://www.sciencedirect.com/science/article/pii/S0167637720301024)"
   ]
  },
  {
   "attachments": {
    "image.png": {
     "image/png": "[encoded data removed]"
    }
   },
   "cell_type": "markdown",
   "metadata": {},
   "source": [
    "![image.png](attachment:image.png)"
   ]
  },
  {
   "cell_type": "markdown",
   "metadata": {},
   "source": [
    "**Question 1**: what are the variables for optimization?"
   ]
  },
  {
   "cell_type": "code",
   "execution_count": null,
   "metadata": {},
   "outputs": [],
   "source": [
    "N = range(5)   # INPUT EXAMPLE\n",
    "O = range(4)   # INPUT EXAMPLE\n",
    "x = cvxpy.Variable((len(N), len(O)))"
   ]
  },
  {
   "cell_type": "markdown",
   "metadata": {},
   "source": []
  },
  {
   "cell_type": "markdown",
   "metadata": {},
   "source": [
    "**Question 2**: What is the objective?"
   ]
  },
  {
   "cell_type": "code",
   "execution_count": 89,
   "metadata": {},
   "outputs": [
    {
     "name": "stdout",
     "output_type": "stream",
     "text": [
      "u = \n",
      " [[47 83 38 57]\n",
      " [73 82 43 46]\n",
      " [53  3 86 78]\n",
      " [ 7 12 15 76]\n",
      " [77 37 75 86]]\n"
     ]
    }
   ],
   "source": [
    "u = np.random.randint(1,100, (len(N), len(O)))  # INPUT EXAMPLE\n",
    "print(\"u = \\n\",u)\n",
    "objective = cvxpy.Maximize(\n",
    "    sum(sum(u[i,o]*x[i,o] for o in O) for i in N)\n",
    ")"
   ]
  },
  {
   "cell_type": "markdown",
   "metadata": {},
   "source": [
    "**Question 3**: What are the constraints?"
   ]
  },
  {
   "cell_type": "markdown",
   "metadata": {},
   "source": []
  },
  {
   "cell_type": "code",
   "execution_count": 85,
   "metadata": {},
   "outputs": [
    {
     "name": "stdout",
     "output_type": "stream",
     "text": [
      "4\n"
     ]
    }
   ],
   "source": [
    "constraints_2 = [(sum(x[i,o] for i in N)==1) for o in O]\n",
    "print(len(constraints_2))"
   ]
  },
  {
   "cell_type": "code",
   "execution_count": 86,
   "metadata": {},
   "outputs": [
    {
     "name": "stdout",
     "output_type": "stream",
     "text": [
      "2\n"
     ]
    }
   ],
   "source": [
    "T = [(0,1),(4,2)]   # INPUT EXAMPLE\n",
    "constraints_3 = [x[i,o]==0 for (i,o) in T]\n",
    "print(len(constraints_3))"
   ]
  },
  {
   "cell_type": "code",
   "execution_count": 87,
   "metadata": {},
   "outputs": [
    {
     "name": "stdout",
     "output_type": "stream",
     "text": [
      "20\n"
     ]
    }
   ],
   "source": [
    "constraints_4 = [x[i,o]>=0 for i in N for o in O]\n",
    "print(len(constraints_4))"
   ]
  },
  {
   "cell_type": "code",
   "execution_count": null,
   "metadata": {},
   "outputs": [
    {
     "name": "stdout",
     "output_type": "stream",
     "text": [
      "y = \n",
      " [[0.99 0.75 0.78 0.73]\n",
      " [0.31 0.64 0.31 0.71]\n",
      " [0.92 0.68 0.95 0.03]\n",
      " [0.63 0.66 0.34 0.96]\n",
      " [0.16 0.54 0.53 0.01]] sum =  [3.01050169 3.26496798 2.90517163 2.44776901]\n",
      "y = \n",
      " [[0.33 0.23 0.27 0.3 ]\n",
      " [0.1  0.2  0.11 0.29]\n",
      " [0.31 0.21 0.33 0.01]\n",
      " [0.21 0.2  0.12 0.39]\n",
      " [0.05 0.16 0.18 0.  ]] sum =  [1. 1. 1. 1.]\n",
      "5\n"
     ]
    }
   ],
   "source": [
    "# INPUT EXAMPLE:\n",
    "y = np.random.random((len(N), len(O)))\n",
    "print(\"y = \\n\",y.round(2), \"sum = \", np.sum(y, axis=0))\n",
    "y = y / np.sum(y, axis=0)  # Normalize to sum 1\n",
    "print(\"y = \\n\",y.round(2), \"sum = \", np.sum(y, axis=0))\n",
    "\n",
    "constraints_1 = [(sum(u[i,o]*x[i,o] for o in O) >= \n",
    "                  sum(u[i,o]*y[i,o] for o in O)) \n",
    "                  for i in N]\n",
    "print(len(constraints_1))"
   ]
  },
  {
   "cell_type": "code",
   "execution_count": 102,
   "metadata": {},
   "outputs": [
    {
     "name": "stdout",
     "output_type": "stream",
     "text": [
      "status =  optimal\n",
      "opt_T =  290.80955202991686\n"
     ]
    }
   ],
   "source": [
    "LP_T = cvxpy.Problem(\n",
    "    objective = objective, \n",
    "    constraints = constraints_1 + constraints_2 + constraints_3 + constraints_4\n",
    "    )\n",
    "LP_T.solve()\n",
    "print(\"status = \",LP_T.status)\n",
    "opt_T = LP_T.value\n",
    "print(\"opt_T = \", opt_T)\n"
   ]
  },
  {
   "cell_type": "code",
   "execution_count": 106,
   "metadata": {},
   "outputs": [
    {
     "name": "stdout",
     "output_type": "stream",
     "text": [
      "opt_T =  290.80955202991686\n",
      "opt_T(1,2) =  290.80955218767787\n",
      "Adding (1,2)\n",
      "opt_T(2,3) =  290.809551550767\n",
      "Adding (2,3)\n",
      "opt_T(3,1) =  290.8095515473495\n",
      "Adding (3,1)\n"
     ]
    }
   ],
   "source": [
    "def find_opt_T(N, O, u, y, T):\n",
    "    x = cvxpy.Variable((len(N), len(O)))    \n",
    "    objective = cvxpy.Maximize(\n",
    "        sum(sum(u[i,o]*x[i,o] for o in O) for i in N)\n",
    "    )\n",
    "    constraints_1 = [(sum(u[i,o]*x[i,o] for o in O) >= sum(u[i,o]*y[i,o] for o in O)) for i in N]\n",
    "    constraints_2 = [(sum(x[i,o] for i in N)==1) for o in O]\n",
    "    constraints_3 = [x[i,o]==0 for (i,o) in T]\n",
    "    constraints_4 = [x[i,o]>=0 for i in N for o in O]\n",
    "    LP_T = cvxpy.Problem(\n",
    "        objective = objective, \n",
    "        constraints = constraints_1 + constraints_2 + constraints_3 + constraints_4\n",
    "        )\n",
    "    LP_T.solve()\n",
    "    if LP_T.status!=\"optimal\":\n",
    "        raise ValueError(\"LP_T status is \" + LP_T.status)\n",
    "    opt_T = LP_T.value\n",
    "    return opt_T\n",
    "\n",
    "T = [(0,1),(4,2)]   # INPUT EXAMPLE\n",
    "C = [(1,2),(2,3),(3,1)]   # INPUT EXAMPLE\n",
    "\n",
    "opt_T = find_opt_T(N, O, u, y, T)\n",
    "print(\"opt_T = \",opt_T)\n",
    "for (i,o) in C:\n",
    "    Tio = T + [(i,o)]\n",
    "    opt_Tio = find_opt_T(N, O, u, y, Tio)\n",
    "    print(f\"opt_T({i},{o}) = \",opt_Tio)\n",
    "    # if opt_T == opt_Tio:\n",
    "    if np.allclose(opt_T,opt_Tio):\n",
    "        print(f\"Adding ({i},{o})\")\n",
    "        T = Tio"
   ]
  }
 ],
 "metadata": {
  "kernelspec": {
   "display_name": "Python 3",
   "language": "python",
   "name": "python3"
  },
  "language_info": {
   "codemirror_mode": {
    "name": "ipython",
    "version": 3
   },
   "file_extension": ".py",
   "mimetype": "text/x-python",
   "name": "python",
   "nbconvert_exporter": "python",
   "pygments_lexer": "ipython3",
   "version": "3.10.2"
  }
 },
 "nbformat": 4,
 "nbformat_minor": 4
}
